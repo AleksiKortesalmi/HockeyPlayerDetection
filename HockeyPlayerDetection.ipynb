{
 "cells": [
  {
   "cell_type": "markdown",
   "metadata": {},
   "source": [
    "## These have to be setup before\n",
    "- https://github.com/tensorflow/models has been cloned to Tensorflow/models\n",
    "- LabelImg has been cloned\n",
    "- protoc has been installed and is in Tensorflow/protoc\n",
    "- Packages have been installed (see requirements.txt)\n",
    "- Your footage is in the footage folder in video format"
   ]
  },
  {
   "cell_type": "markdown",
   "metadata": {},
   "source": [
    "# Path Setup"
   ]
  },
  {
   "cell_type": "code",
   "execution_count": 2,
   "metadata": {},
   "outputs": [],
   "source": [
    "import os;\n",
    "\n",
    "FOOTAGE_PATH = \"Footage/\"\n",
    "LABELIMG_PATH = os.path.join('Tensorflow', 'labelimg')\n",
    "\n",
    "TRAIN_PATH = os.path.join('Tensorflow', 'workspace', 'images', 'train')\n",
    "TEST_PATH = os.path.join('Tensorflow', 'workspace', 'images', 'test')\n",
    "\n",
    "CUSTOM_MODEL_NAME = \"HockeyPlayerDetectionModel\"\n",
    "PRETRAINED_MODEL_NAME = \"ssd_resnet50_v1_fpn_640x640_coco17_tpu-8\"\n",
    "TF_RECORD_SCRIPT_NAME = 'generate_tfrecord.py'\n",
    "LABEL_MAP_NAME = 'label_map.pbtxt'\n",
    "\n",
    "paths = {\n",
    "    'WORKSPACE_PATH': os.path.join('Tensorflow', 'workspace'),\n",
    "    'SCRIPTS_PATH': os.path.join('Tensorflow','scripts'),\n",
    "    'APIMODEL_PATH': os.path.join('Tensorflow','models'),\n",
    "    'ANNOTATION_PATH': os.path.join( 'Tensorflow', 'workspace','annotations'),\n",
    "    'UNLABELED_IMAGE_PATH': os.path.join('Tensorflow', 'workspace','images', 'unlabeled'),\n",
    "    'IMAGE_PATH': os.path.join('Tensorflow', 'workspace','images'),\n",
    "    'MODEL_PATH': os.path.join('Tensorflow', 'workspace','models'),\n",
    "    'PRETRAINED_MODEL_PATH': os.path.join('Tensorflow', 'workspace','pre-trained-models'),\n",
    "    'CHECKPOINT_PATH': os.path.join('Tensorflow', 'workspace','models',CUSTOM_MODEL_NAME), \n",
    "    'OUTPUT_PATH': os.path.join('Tensorflow', 'workspace','models',CUSTOM_MODEL_NAME, 'export'), \n",
    "    'TFJS_PATH':os.path.join('Tensorflow', 'workspace','models',CUSTOM_MODEL_NAME, 'tfjsexport'), \n",
    "    'TFLITE_PATH':os.path.join('Tensorflow', 'workspace','models',CUSTOM_MODEL_NAME, 'tfliteexport'), \n",
    "    'PROTOC_PATH':os.path.join('Tensorflow','protoc')\n",
    "}\n",
    "\n",
    "files = {\n",
    "    'PIPELINE_CONFIG':os.path.join('Tensorflow', 'workspace','models', CUSTOM_MODEL_NAME, 'pipeline.config'),\n",
    "    'TF_RECORD_SCRIPT': os.path.join(paths['SCRIPTS_PATH'], TF_RECORD_SCRIPT_NAME), \n",
    "    'LABELMAP': os.path.join(paths['ANNOTATION_PATH'], LABEL_MAP_NAME)\n",
    "}\n",
    "\n",
    "for filename in paths.values():\n",
    "    if not os.path.exists(filename):\n",
    "        os.makedirs(filename)\n",
    "\n",
    "def makeabsolute(relative_path):\n",
    "    return os.path.join(\"D:\\Python\\HockeyPlayerDetection\", relative_path)"
   ]
  },
  {
   "cell_type": "markdown",
   "metadata": {},
   "source": [
    "# Image Collection"
   ]
  },
  {
   "cell_type": "code",
   "execution_count": 35,
   "metadata": {},
   "outputs": [
    {
     "name": "stdout",
     "output_type": "stream",
     "text": [
      "Images per video: 5.0\n",
      "Images collected: 87\n"
     ]
    }
   ],
   "source": [
    "# Collect given amount of images by going through videos in randomized increments\n",
    "\n",
    "import random\n",
    "import cv2\n",
    "\n",
    "image_amount_target = 100\n",
    "\n",
    "footage_filenames = os.listdir(FOOTAGE_PATH)\n",
    "\n",
    "image_amount_pervideo = image_amount_target / len(footage_filenames)\n",
    "\n",
    "print(\"Images per video: \" + str(image_amount_pervideo))\n",
    "\n",
    "images_collected = 0\n",
    "\n",
    "def random_frame_amount(increment_amount):\n",
    "    return random.randrange(int(increment_amount * 0.9), int(increment_amount * 1.1))\n",
    "\n",
    "for video_path in footage_filenames:\n",
    "    video_path_full = os.path.join(FOOTAGE_PATH, video_path)\n",
    "\n",
    "    vidcap = cv2.VideoCapture(video_path_full)\n",
    "\n",
    "    vid_len = int(vidcap.get(cv2.CAP_PROP_FRAME_COUNT))\n",
    "\n",
    "    increment_amount = vid_len / image_amount_pervideo\n",
    "\n",
    "    frame_index = random_frame_amount(increment_amount)\n",
    "    while frame_index < vid_len:\n",
    "        # Set video to specific frame and read it\n",
    "        vidcap.set(cv2.CAP_PROP_POS_FRAMES, frame_index)\n",
    "        success, image = vidcap.read()\n",
    "\n",
    "        if success:\n",
    "            # Get video name without .mp4\n",
    "            vid_name_noextension = os.path.splitext(video_path)[0]\n",
    "\n",
    "            # Replace spaces with underscores\n",
    "            vid_name_noextension.replace(' ', '_')\n",
    "\n",
    "            full_path_noex = os.path.join(paths['UNLABELED_IMAGE_PATH'], vid_name_noextension)\n",
    "\n",
    "            # Save image\n",
    "            cv2.imwrite(full_path_noex + \"_\" + str(frame_index) + '.jpg', image) \n",
    "            \n",
    "            images_collected += 1\n",
    "\n",
    "        frame_index += random_frame_amount(increment_amount)\n",
    "\n",
    "all_files = os.listdir(paths['UNLABELED_IMAGE_PATH'])\n",
    "\n",
    "# Remove spaces\n",
    "for filename in all_files:\n",
    "    os.rename(os.path.join(paths['UNLABELED_IMAGE_PATH'], filename), os.path.join(paths['UNLABELED_IMAGE_PATH'], filename.replace(' ', '_')))\n",
    "\n",
    "print(\"Images collected: \" + str(images_collected))"
   ]
  },
  {
   "cell_type": "markdown",
   "metadata": {},
   "source": [
    "#### Filter images\n",
    "\n",
    "- press d to delete\n",
    "- s for skip\n",
    "- q to quit"
   ]
  },
  {
   "cell_type": "code",
   "execution_count": 36,
   "metadata": {},
   "outputs": [
    {
     "name": "stdout",
     "output_type": "stream",
     "text": [
      "Tensorflow\\workspace\\images\\unlabeled\\NHL_Jan.08_2022_Chicago_Blackhawks_-_Vegas_Golden_Knight_181376.jpg deleted!\n",
      "Tensorflow\\workspace\\images\\unlabeled\\NHL__Jan.06_2022___San_Jose_Sharks_-_Buffalo_Sabres_167761.jpg deleted!\n",
      "Tensorflow\\workspace\\images\\unlabeled\\NHL__Jan.06_2022___San_Jose_Sharks_-_Buffalo_Sabres_82719.jpg deleted!\n",
      "Tensorflow\\workspace\\images\\unlabeled\\NHL__Jan.06_2022___Winnipeg_Jets_-_Colorado_Avalanche_38570.jpg deleted!\n",
      "Tensorflow\\workspace\\images\\unlabeled\\NHL__Jan.06_2022___Winnipeg_Jets_-_Colorado_Avalanche_79490.jpg deleted!\n",
      "Tensorflow\\workspace\\images\\unlabeled\\NHL__Jan.08_2022___Pittsburgh_Penguins_-_Dallas_Stars_41655.jpg deleted!\n",
      "Tensorflow\\workspace\\images\\unlabeled\\NHL__Jan.10_2022__Seattle_Kraken_-_Colorado_Avalanche_121241.jpg deleted!\n",
      "Tensorflow\\workspace\\images\\unlabeled\\NHL__Jan.10_2022__Seattle_Kraken_-_Colorado_Avalanche_161150.jpg deleted!\n",
      "Tensorflow\\workspace\\images\\unlabeled\\NHL__Jan.10_2022__Seattle_Kraken_-_Colorado_Avalanche_81969.jpg deleted!\n",
      "Tensorflow\\workspace\\images\\unlabeled\\NHL__Jan.10_2022___New_York_Rangers_-_Los_Angeles_Kings_132818.jpg deleted!\n",
      "Tensorflow\\workspace\\images\\unlabeled\\NHL__Jan.11_2022__Vancouver_Canucks_-_Florida_Panthers_244410.jpg deleted!\n",
      "Tensorflow\\workspace\\images\\unlabeled\\NHL__Jan.11_2022__Vancouver_Canucks_-_Florida_Panthers_49931.jpg deleted!\n",
      "Tensorflow\\workspace\\images\\unlabeled\\NHL__Oct.15_2021__Vancouver_Canucks_-_Philadelphia_Flyers_137066.jpg deleted!\n",
      "Tensorflow\\workspace\\images\\unlabeled\\NHL__Oct.16_2021_Tampa_Bay_Lightning_-_Washington_Capitals_186525.jpg deleted!\n",
      "Tensorflow\\workspace\\images\\unlabeled\\NHL__Oct.16_2021__Arizona_Coyotes_-_Buffalo_Sabres_155556.jpg deleted!\n",
      "Tensorflow\\workspace\\images\\unlabeled\\NHL__Oct.16_2021__Arizona_Coyotes_-_Buffalo_Sabres_39828.jpg deleted!\n",
      "Tensorflow\\workspace\\images\\unlabeled\\NHL__Oct.19_2021__Los_Angeles_Kings_-_Nashville_Predators_181310.jpg deleted!\n",
      "Tensorflow\\workspace\\images\\unlabeled\\NHL__Oct.19_2021___San_Jose_Sharks_-_Montreal_Canadiens_39578.jpg deleted!\n",
      "Tensorflow\\workspace\\images\\unlabeled\\NHL__Oct.19_2021___San_Jose_Sharks_-_Montreal_Canadiens_79071.jpg deleted!\n",
      "Tensorflow\\workspace\\images\\unlabeled\\NHL__Oct.21_2021_New_York_Rangers_-_Nashville_Predators_257006.jpg deleted!\n",
      "Tensorflow\\workspace\\images\\unlabeled\\NHL___Jan.04_2022__Winnipeg_Jets_-_Arizona_Coyotes_130868.jpg deleted!\n",
      "Tensorflow\\workspace\\images\\unlabeled\\NHL___Jan.04_2022__Winnipeg_Jets_-_Arizona_Coyotes_30698.jpg deleted!\n",
      "Tensorflow\\workspace\\images\\unlabeled\\NHL___Jan.04_2022__Winnipeg_Jets_-_Arizona_Coyotes_96391.jpg deleted!\n",
      "Tensorflow\\workspace\\images\\unlabeled\\NHL___Oct.16_2021__Ottawa_Senators_-_Toronto_Maple_Leafs_354895.jpg deleted!\n",
      "Tensorflow\\workspace\\images\\unlabeled\\NHL___Oct.17_2021__Dallas_Stars_-_Ottawa_Senators_124803.jpg deleted!\n",
      "Tensorflow\\workspace\\images\\unlabeled\\NHL___Oct.17_2021__Dallas_Stars_-_Ottawa_Senators_162103.jpg deleted!\n",
      "Tensorflow\\workspace\\images\\unlabeled\\NHL___Oct.17_2021__Dallas_Stars_-_Ottawa_Senators_377217.jpg deleted!\n",
      "Tensorflow\\workspace\\images\\unlabeled\\NHL___Oct.18_2021___Anaheim_Ducks_-_Calgary_Flames_104638.jpg deleted!\n",
      "Tensorflow\\workspace\\images\\unlabeled\\NHL___Oct.18_2021___Anaheim_Ducks_-_Calgary_Flames_33861.jpg deleted!\n",
      "Tensorflow\\workspace\\images\\unlabeled\\NHL___Oct.18_2021___Anaheim_Ducks_-_Calgary_Flames_69405.jpg deleted!\n",
      "Tensorflow\\workspace\\images\\unlabeled\\NHL___Oct.19_2021__Columbus_Blue_Jackets_-_Detroit_Red_Wings_77130.jpg deleted!\n",
      "125 images left!\n"
     ]
    }
   ],
   "source": [
    "filenames = os.listdir(paths['UNLABELED_IMAGE_PATH'])\n",
    "\n",
    "for name in filenames:\n",
    "    img_path = os.path.join(paths['UNLABELED_IMAGE_PATH'], name)\n",
    "    image = cv2.imread(img_path)\n",
    "    \n",
    "    cv2.imshow(name, image)\n",
    "\n",
    "    cv2.moveWindow(name, 0, 0)\n",
    "\n",
    "    k = cv2.waitKey(0)\n",
    "\n",
    "    cv2.destroyWindow(name)\n",
    "\n",
    "    if k == ord('d'):\n",
    "        os.remove(img_path)\n",
    "        print(img_path + \" deleted!\")\n",
    "        continue\n",
    "    elif k == ord('q'):\n",
    "        break\n",
    "    else:\n",
    "        continue\n",
    "\n",
    "cv2.destroyAllWindows()\n",
    "\n",
    "print(str(len(os.listdir(paths['UNLABELED_IMAGE_PATH']))) + \" images left!\")"
   ]
  },
  {
   "cell_type": "markdown",
   "metadata": {},
   "source": [
    "#### Delete collected images CAREFUL"
   ]
  },
  {
   "cell_type": "code",
   "execution_count": 16,
   "metadata": {},
   "outputs": [],
   "source": [
    "# Delete old collected images\n",
    "delete_old_files = False\n",
    "\n",
    "if delete_old_files:\n",
    "    old_imgs = os.listdir(paths['UNLABELED_IMAGE_PATH'])\n",
    "\n",
    "    for img_name in old_imgs:\n",
    "        os.remove(os.path.join(paths[\"UNLABELED_IMAGE_PATH\"], img_name))"
   ]
  },
  {
   "cell_type": "markdown",
   "metadata": {},
   "source": [
    "# Label Images"
   ]
  },
  {
   "cell_type": "code",
   "execution_count": 4,
   "metadata": {},
   "outputs": [
    {
     "name": "stdout",
     "output_type": "stream",
     "text": [
      "Cancel creation.\n",
      "Image:D:\\Python\\HockeyPlayerDetection\\Tensorflow\\workspace\\images\\unlabeled\\NHL___Oct.17_2021__Dallas_Stars_-_Ottawa_Senators_230273.jpg -> Annotation:D:/Python/HockeyPlayerDetection/Tensorflow/workspace/images/unlabeled\\NHL___Oct.17_2021__Dallas_Stars_-_Ottawa_Senators_230273.xml\n",
      "Image:D:\\Python\\HockeyPlayerDetection\\Tensorflow\\workspace\\images\\unlabeled\\NHL___Oct.18_2021___Anaheim_Ducks_-_Calgary_Flames_26958.jpg -> Annotation:D:/Python/HockeyPlayerDetection/Tensorflow/workspace/images/unlabeled\\NHL___Oct.18_2021___Anaheim_Ducks_-_Calgary_Flames_26958.xml\n",
      "Image:D:\\Python\\HockeyPlayerDetection\\Tensorflow\\workspace\\images\\unlabeled\\NHL___Oct.17_2021__Dallas_Stars_-_Ottawa_Senators_297278.jpg -> Annotation:D:/Python/HockeyPlayerDetection/Tensorflow/workspace/images/unlabeled\\NHL___Oct.17_2021__Dallas_Stars_-_Ottawa_Senators_297278.xml\n",
      "Image:D:\\Python\\HockeyPlayerDetection\\Tensorflow\\workspace\\images\\unlabeled\\NHL___Oct.18_2021___Anaheim_Ducks_-_Calgary_Flames_26958.jpg -> Annotation:D:/Python/HockeyPlayerDetection/Tensorflow/workspace/images/unlabeled\\NHL___Oct.18_2021___Anaheim_Ducks_-_Calgary_Flames_26958.xml\n",
      "Image:D:\\Python\\HockeyPlayerDetection\\Tensorflow\\workspace\\images\\unlabeled\\NHL___Oct.18_2021___Anaheim_Ducks_-_Calgary_Flames_53457.jpg -> Annotation:D:/Python/HockeyPlayerDetection/Tensorflow/workspace/images/unlabeled\\NHL___Oct.18_2021___Anaheim_Ducks_-_Calgary_Flames_53457.xml\n",
      "Image:D:\\Python\\HockeyPlayerDetection\\Tensorflow\\workspace\\images\\unlabeled\\NHL___Oct.18_2021___Anaheim_Ducks_-_Calgary_Flames_136996.jpg -> Annotation:D:/Python/HockeyPlayerDetection/Tensorflow/workspace/images/unlabeled\\NHL___Oct.18_2021___Anaheim_Ducks_-_Calgary_Flames_136996.xml\n",
      "Image:D:\\Python\\HockeyPlayerDetection\\Tensorflow\\workspace\\images\\unlabeled\\NHL___Oct.18_2021___Anaheim_Ducks_-_Calgary_Flames_141144.jpg -> Annotation:D:/Python/HockeyPlayerDetection/Tensorflow/workspace/images/unlabeled\\NHL___Oct.18_2021___Anaheim_Ducks_-_Calgary_Flames_141144.xml\n",
      "Image:D:\\Python\\HockeyPlayerDetection\\Tensorflow\\workspace\\images\\unlabeled\\NHL___Oct.18_2021___Anaheim_Ducks_-_Calgary_Flames_170668.jpg -> Annotation:D:/Python/HockeyPlayerDetection/Tensorflow/workspace/images/unlabeled\\NHL___Oct.18_2021___Anaheim_Ducks_-_Calgary_Flames_170668.xml\n",
      "Image:D:\\Python\\HockeyPlayerDetection\\Tensorflow\\workspace\\images\\unlabeled\\NHL___Oct.19_2021__Columbus_Blue_Jackets_-_Detroit_Red_Wings_89144.jpg -> Annotation:D:/Python/HockeyPlayerDetection/Tensorflow/workspace/images/unlabeled\\NHL___Oct.19_2021__Columbus_Blue_Jackets_-_Detroit_Red_Wings_89144.xml\n",
      "Image:D:\\Python\\HockeyPlayerDetection\\Tensorflow\\workspace\\images\\unlabeled\\NHL___Oct.19_2021__Columbus_Blue_Jackets_-_Detroit_Red_Wings_149075.jpg -> Annotation:D:/Python/HockeyPlayerDetection/Tensorflow/workspace/images/unlabeled\\NHL___Oct.19_2021__Columbus_Blue_Jackets_-_Detroit_Red_Wings_149075.xml\n",
      "Image:D:\\Python\\HockeyPlayerDetection\\Tensorflow\\workspace\\images\\unlabeled\\NHL___Oct.19_2021__Columbus_Blue_Jackets_-_Detroit_Red_Wings_149389.jpg -> Annotation:D:/Python/HockeyPlayerDetection/Tensorflow/workspace/images/unlabeled\\NHL___Oct.19_2021__Columbus_Blue_Jackets_-_Detroit_Red_Wings_149389.xml\n",
      "Image:D:\\Python\\HockeyPlayerDetection\\Tensorflow\\workspace\\images\\unlabeled\\NHL___Oct.19_2021__Columbus_Blue_Jackets_-_Detroit_Red_Wings_121094.jpg -> Annotation:D:/Python/HockeyPlayerDetection/Tensorflow/workspace/images/unlabeled\\NHL___Oct.19_2021__Columbus_Blue_Jackets_-_Detroit_Red_Wings_121094.xml\n",
      "Image:D:\\Python\\HockeyPlayerDetection\\Tensorflow\\workspace\\images\\unlabeled\\NHL___Jan.04_2022__Winnipeg_Jets_-_Arizona_Coyotes_49743.jpg -> Annotation:D:/Python/HockeyPlayerDetection/Tensorflow/workspace/images/unlabeled\\NHL___Jan.04_2022__Winnipeg_Jets_-_Arizona_Coyotes_49743.xml\n",
      "Image:D:\\Python\\HockeyPlayerDetection\\Tensorflow\\workspace\\images\\unlabeled\\NHL___Jan.04_2022__Winnipeg_Jets_-_Arizona_Coyotes_62204.jpg -> Annotation:D:/Python/HockeyPlayerDetection/Tensorflow/workspace/images/unlabeled\\NHL___Jan.04_2022__Winnipeg_Jets_-_Arizona_Coyotes_62204.xml\n",
      "Image:D:\\Python\\HockeyPlayerDetection\\Tensorflow\\workspace\\images\\unlabeled\\NHL___Jan.04_2022__Winnipeg_Jets_-_Arizona_Coyotes_73884.jpg -> Annotation:D:/Python/HockeyPlayerDetection/Tensorflow/workspace/images/unlabeled\\NHL___Jan.04_2022__Winnipeg_Jets_-_Arizona_Coyotes_73884.xml\n",
      "Image:D:\\Python\\HockeyPlayerDetection\\Tensorflow\\workspace\\images\\unlabeled\\NHL___Jan.04_2022__Winnipeg_Jets_-_Arizona_Coyotes_97759.jpg -> Annotation:D:/Python/HockeyPlayerDetection/Tensorflow/workspace/images/unlabeled\\NHL___Jan.04_2022__Winnipeg_Jets_-_Arizona_Coyotes_97759.xml\n",
      "Image:D:\\Python\\HockeyPlayerDetection\\Tensorflow\\workspace\\images\\unlabeled\\NHL___Jan.04_2022__Winnipeg_Jets_-_Arizona_Coyotes_97759.jpg -> Annotation:D:/Python/HockeyPlayerDetection/Tensorflow/workspace/images/unlabeled\\NHL___Jan.04_2022__Winnipeg_Jets_-_Arizona_Coyotes_97759.xml\n",
      "Image:D:\\Python\\HockeyPlayerDetection\\Tensorflow\\workspace\\images\\unlabeled\\NHL___Jan.04_2022__Winnipeg_Jets_-_Arizona_Coyotes_123477.jpg -> Annotation:D:/Python/HockeyPlayerDetection/Tensorflow/workspace/images/unlabeled\\NHL___Jan.04_2022__Winnipeg_Jets_-_Arizona_Coyotes_123477.xml\n",
      "Image:D:\\Python\\HockeyPlayerDetection\\Tensorflow\\workspace\\images\\unlabeled\\NHL___Oct.16_2021__Ottawa_Senators_-_Toronto_Maple_Leafs_65825.jpg -> Annotation:D:/Python/HockeyPlayerDetection/Tensorflow/workspace/images/unlabeled\\NHL___Oct.16_2021__Ottawa_Senators_-_Toronto_Maple_Leafs_65825.xml\n",
      "Image:D:\\Python\\HockeyPlayerDetection\\Tensorflow\\workspace\\images\\unlabeled\\NHL___Oct.16_2021__Ottawa_Senators_-_Toronto_Maple_Leafs_65825.jpg -> Annotation:D:/Python/HockeyPlayerDetection/Tensorflow/workspace/images/unlabeled\\NHL___Oct.16_2021__Ottawa_Senators_-_Toronto_Maple_Leafs_65825.xml\n",
      "Image:D:\\Python\\HockeyPlayerDetection\\Tensorflow\\workspace\\images\\unlabeled\\NHL___Oct.16_2021__Ottawa_Senators_-_Toronto_Maple_Leafs_122133.jpg -> Annotation:D:/Python/HockeyPlayerDetection/Tensorflow/workspace/images/unlabeled\\NHL___Oct.16_2021__Ottawa_Senators_-_Toronto_Maple_Leafs_122133.xml\n",
      "Image:D:\\Python\\HockeyPlayerDetection\\Tensorflow\\workspace\\images\\unlabeled\\NHL___Oct.16_2021__Ottawa_Senators_-_Toronto_Maple_Leafs_122133.jpg -> Annotation:D:/Python/HockeyPlayerDetection/Tensorflow/workspace/images/unlabeled\\NHL___Oct.16_2021__Ottawa_Senators_-_Toronto_Maple_Leafs_122133.xml\n",
      "Image:D:\\Python\\HockeyPlayerDetection\\Tensorflow\\workspace\\images\\unlabeled\\NHL___Oct.16_2021__Ottawa_Senators_-_Toronto_Maple_Leafs_137986.jpg -> Annotation:D:/Python/HockeyPlayerDetection/Tensorflow/workspace/images/unlabeled\\NHL___Oct.16_2021__Ottawa_Senators_-_Toronto_Maple_Leafs_137986.xml\n",
      "Image:D:\\Python\\HockeyPlayerDetection\\Tensorflow\\workspace\\images\\unlabeled\\NHL___Oct.16_2021__Ottawa_Senators_-_Toronto_Maple_Leafs_212781.jpg -> Annotation:D:/Python/HockeyPlayerDetection/Tensorflow/workspace/images/unlabeled\\NHL___Oct.16_2021__Ottawa_Senators_-_Toronto_Maple_Leafs_212781.xml\n",
      "Image:D:\\Python\\HockeyPlayerDetection\\Tensorflow\\workspace\\images\\unlabeled\\NHL___Oct.16_2021__Ottawa_Senators_-_Toronto_Maple_Leafs_288654.jpg -> Annotation:D:/Python/HockeyPlayerDetection/Tensorflow/workspace/images/unlabeled\\NHL___Oct.16_2021__Ottawa_Senators_-_Toronto_Maple_Leafs_288654.xml\n",
      "Image:D:\\Python\\HockeyPlayerDetection\\Tensorflow\\workspace\\images\\unlabeled\\NHL___Oct.16_2021__Ottawa_Senators_-_Toronto_Maple_Leafs_294476.jpg -> Annotation:D:/Python/HockeyPlayerDetection/Tensorflow/workspace/images/unlabeled\\NHL___Oct.16_2021__Ottawa_Senators_-_Toronto_Maple_Leafs_294476.xml\n",
      "Image:D:\\Python\\HockeyPlayerDetection\\Tensorflow\\workspace\\images\\unlabeled\\NHL___Oct.17_2021__Dallas_Stars_-_Ottawa_Senators_65494.jpg -> Annotation:D:/Python/HockeyPlayerDetection/Tensorflow/workspace/images/unlabeled\\NHL___Oct.17_2021__Dallas_Stars_-_Ottawa_Senators_65494.xml\n",
      "Image:D:\\Python\\HockeyPlayerDetection\\Tensorflow\\workspace\\images\\unlabeled\\NHL___Oct.17_2021__Dallas_Stars_-_Ottawa_Senators_65494.jpg -> Annotation:D:/Python/HockeyPlayerDetection/Tensorflow/workspace/images/unlabeled\\NHL___Oct.17_2021__Dallas_Stars_-_Ottawa_Senators_65494.xml\n",
      "Image:D:\\Python\\HockeyPlayerDetection\\Tensorflow\\workspace\\images\\unlabeled\\NHL___Oct.17_2021__Dallas_Stars_-_Ottawa_Senators_65494.jpg -> Annotation:D:/Python/HockeyPlayerDetection/Tensorflow/workspace/images/unlabeled\\NHL___Oct.17_2021__Dallas_Stars_-_Ottawa_Senators_65494.xml\n",
      "Image:D:\\Python\\HockeyPlayerDetection\\Tensorflow\\workspace\\images\\unlabeled\\NHL___Oct.17_2021__Dallas_Stars_-_Ottawa_Senators_81099.jpg -> Annotation:D:/Python/HockeyPlayerDetection/Tensorflow/workspace/images/unlabeled\\NHL___Oct.17_2021__Dallas_Stars_-_Ottawa_Senators_81099.xml\n",
      "Image:D:\\Python\\HockeyPlayerDetection\\Tensorflow\\workspace\\images\\unlabeled\\NHL___Oct.17_2021__Dallas_Stars_-_Ottawa_Senators_230273.jpg -> Annotation:D:/Python/HockeyPlayerDetection/Tensorflow/workspace/images/unlabeled\\NHL___Oct.17_2021__Dallas_Stars_-_Ottawa_Senators_230273.xml\n",
      "Image:D:\\Python\\HockeyPlayerDetection\\Tensorflow\\workspace\\images\\unlabeled\\NHL___Oct.17_2021__Dallas_Stars_-_Ottawa_Senators_297278.jpg -> Annotation:D:/Python/HockeyPlayerDetection/Tensorflow/workspace/images/unlabeled\\NHL___Oct.17_2021__Dallas_Stars_-_Ottawa_Senators_297278.xml\n",
      "Image:D:\\Python\\HockeyPlayerDetection\\Tensorflow\\workspace\\images\\unlabeled\\NHL___Oct.17_2021__Dallas_Stars_-_Ottawa_Senators_306691.jpg -> Annotation:D:/Python/HockeyPlayerDetection/Tensorflow/workspace/images/unlabeled\\NHL___Oct.17_2021__Dallas_Stars_-_Ottawa_Senators_306691.xml\n",
      "Image:D:\\Python\\HockeyPlayerDetection\\Tensorflow\\workspace\\images\\unlabeled\\NHL___Oct.17_2021__Dallas_Stars_-_Ottawa_Senators_306691.jpg -> Annotation:D:/Python/HockeyPlayerDetection/Tensorflow/workspace/images/unlabeled\\NHL___Oct.17_2021__Dallas_Stars_-_Ottawa_Senators_306691.xml\n",
      "Image:D:\\Python\\HockeyPlayerDetection\\Tensorflow\\workspace\\images\\unlabeled\\NHL___Oct.18_2021___Anaheim_Ducks_-_Calgary_Flames_53457.jpg -> Annotation:D:/Python/HockeyPlayerDetection/Tensorflow/workspace/images/unlabeled\\NHL___Oct.18_2021___Anaheim_Ducks_-_Calgary_Flames_53457.xml\n",
      "Image:D:\\Python\\HockeyPlayerDetection\\Tensorflow\\workspace\\images\\unlabeled\\NHL___Oct.18_2021___Anaheim_Ducks_-_Calgary_Flames_53457.jpg -> Annotation:D:/Python/HockeyPlayerDetection/Tensorflow/workspace/images/unlabeled\\NHL___Oct.18_2021___Anaheim_Ducks_-_Calgary_Flames_53457.xml\n",
      "Image:D:\\Python\\HockeyPlayerDetection\\Tensorflow\\workspace\\images\\unlabeled\\NHL___Oct.18_2021___Anaheim_Ducks_-_Calgary_Flames_53457.jpg -> Annotation:D:/Python/HockeyPlayerDetection/Tensorflow/workspace/images/unlabeled\\NHL___Oct.18_2021___Anaheim_Ducks_-_Calgary_Flames_53457.xml\n",
      "Image:D:\\Python\\HockeyPlayerDetection\\Tensorflow\\workspace\\images\\unlabeled\\NHL___Oct.18_2021___Anaheim_Ducks_-_Calgary_Flames_136996.jpg -> Annotation:D:/Python/HockeyPlayerDetection/Tensorflow/workspace/images/unlabeled\\NHL___Oct.18_2021___Anaheim_Ducks_-_Calgary_Flames_136996.xml\n",
      "Image:D:\\Python\\HockeyPlayerDetection\\Tensorflow\\workspace\\images\\unlabeled\\NHL___Oct.18_2021___Anaheim_Ducks_-_Calgary_Flames_170668.jpg -> Annotation:D:/Python/HockeyPlayerDetection/Tensorflow/workspace/images/unlabeled\\NHL___Oct.18_2021___Anaheim_Ducks_-_Calgary_Flames_170668.xml\n",
      "Image:D:\\Python\\HockeyPlayerDetection\\Tensorflow\\workspace\\images\\unlabeled\\NHL___Oct.19_2021__Columbus_Blue_Jackets_-_Detroit_Red_Wings_89144.jpg -> Annotation:D:/Python/HockeyPlayerDetection/Tensorflow/workspace/images/unlabeled\\NHL___Oct.19_2021__Columbus_Blue_Jackets_-_Detroit_Red_Wings_89144.xml\n",
      "Image:D:\\Python\\HockeyPlayerDetection\\Tensorflow\\workspace\\images\\unlabeled\\NHL___Oct.19_2021__Columbus_Blue_Jackets_-_Detroit_Red_Wings_149075.jpg -> Annotation:D:/Python/HockeyPlayerDetection/Tensorflow/workspace/images/unlabeled\\NHL___Oct.19_2021__Columbus_Blue_Jackets_-_Detroit_Red_Wings_149075.xml\n",
      "Image:D:\\Python\\HockeyPlayerDetection\\Tensorflow\\workspace\\images\\unlabeled\\NHL___Oct.19_2021__Columbus_Blue_Jackets_-_Detroit_Red_Wings_149075.jpg -> Annotation:D:/Python/HockeyPlayerDetection/Tensorflow/workspace/images/unlabeled\\NHL___Oct.19_2021__Columbus_Blue_Jackets_-_Detroit_Red_Wings_149075.xml\n",
      "Image:D:\\Python\\HockeyPlayerDetection\\Tensorflow\\workspace\\images\\unlabeled\\NHL___Oct.19_2021__Columbus_Blue_Jackets_-_Detroit_Red_Wings_149389.jpg -> Annotation:D:/Python/HockeyPlayerDetection/Tensorflow/workspace/images/unlabeled\\NHL___Oct.19_2021__Columbus_Blue_Jackets_-_Detroit_Red_Wings_149389.xml\n",
      "Image:D:\\Python\\HockeyPlayerDetection\\Tensorflow\\workspace\\images\\unlabeled\\NHL___Oct.19_2021__Columbus_Blue_Jackets_-_Detroit_Red_Wings_179261.jpg -> Annotation:D:/Python/HockeyPlayerDetection/Tensorflow/workspace/images/unlabeled\\NHL___Oct.19_2021__Columbus_Blue_Jackets_-_Detroit_Red_Wings_179261.xml\n",
      "Image:D:\\Python\\HockeyPlayerDetection\\Tensorflow\\workspace\\images\\unlabeled\\NHL___Oct.19_2021__Columbus_Blue_Jackets_-_Detroit_Red_Wings_179261.jpg -> Annotation:D:/Python/HockeyPlayerDetection/Tensorflow/workspace/images/unlabeled\\NHL___Oct.19_2021__Columbus_Blue_Jackets_-_Detroit_Red_Wings_179261.xml\n",
      "Image:D:\\Python\\HockeyPlayerDetection\\Tensorflow\\workspace\\images\\unlabeled\\NHL___Oct.19_2021__Columbus_Blue_Jackets_-_Detroit_Red_Wings_179261.jpg -> Annotation:D:/Python/HockeyPlayerDetection/Tensorflow/workspace/images/unlabeled\\NHL___Oct.19_2021__Columbus_Blue_Jackets_-_Detroit_Red_Wings_179261.xml\n",
      "Image:D:\\Python\\HockeyPlayerDetection\\Tensorflow\\workspace\\images\\unlabeled\\NHL__Jan.06_2022___New_York_Rangers_-_Vegas_Golden_Knights_35158.jpg -> Annotation:D:/Python/HockeyPlayerDetection/Tensorflow/workspace/images/unlabeled\\NHL__Jan.06_2022___New_York_Rangers_-_Vegas_Golden_Knights_35158.xml\n",
      "Image:D:\\Python\\HockeyPlayerDetection\\Tensorflow\\workspace\\images\\unlabeled\\NHL__Jan.06_2022___New_York_Rangers_-_Vegas_Golden_Knights_35158.jpg -> Annotation:D:/Python/HockeyPlayerDetection/Tensorflow/workspace/images/unlabeled\\NHL__Jan.06_2022___New_York_Rangers_-_Vegas_Golden_Knights_35158.xml\n",
      "Image:D:\\Python\\HockeyPlayerDetection\\Tensorflow\\workspace\\images\\unlabeled\\NHL__Jan.06_2022___New_York_Rangers_-_Vegas_Golden_Knights_53423.jpg -> Annotation:D:/Python/HockeyPlayerDetection/Tensorflow/workspace/images/unlabeled\\NHL__Jan.06_2022___New_York_Rangers_-_Vegas_Golden_Knights_53423.xml\n",
      "Image:D:\\Python\\HockeyPlayerDetection\\Tensorflow\\workspace\\images\\unlabeled\\NHL__Jan.06_2022___New_York_Rangers_-_Vegas_Golden_Knights_53423.jpg -> Annotation:D:/Python/HockeyPlayerDetection/Tensorflow/workspace/images/unlabeled\\NHL__Jan.06_2022___New_York_Rangers_-_Vegas_Golden_Knights_53423.xml\n",
      "Image:D:\\Python\\HockeyPlayerDetection\\Tensorflow\\workspace\\images\\unlabeled\\NHL__Jan.06_2022___New_York_Rangers_-_Vegas_Golden_Knights_66074.jpg -> Annotation:D:/Python/HockeyPlayerDetection/Tensorflow/workspace/images/unlabeled\\NHL__Jan.06_2022___New_York_Rangers_-_Vegas_Golden_Knights_66074.xml\n",
      "Image:D:\\Python\\HockeyPlayerDetection\\Tensorflow\\workspace\\images\\unlabeled\\NHL__Jan.06_2022___New_York_Rangers_-_Vegas_Golden_Knights_66074.jpg -> Annotation:D:/Python/HockeyPlayerDetection/Tensorflow/workspace/images/unlabeled\\NHL__Jan.06_2022___New_York_Rangers_-_Vegas_Golden_Knights_66074.xml\n",
      "Image:D:\\Python\\HockeyPlayerDetection\\Tensorflow\\workspace\\images\\unlabeled\\NHL__Jan.06_2022___New_York_Rangers_-_Vegas_Golden_Knights_66074.jpg -> Annotation:D:/Python/HockeyPlayerDetection/Tensorflow/workspace/images/unlabeled\\NHL__Jan.06_2022___New_York_Rangers_-_Vegas_Golden_Knights_66074.xml\n",
      "Image:D:\\Python\\HockeyPlayerDetection\\Tensorflow\\workspace\\images\\unlabeled\\NHL__Jan.06_2022___New_York_Rangers_-_Vegas_Golden_Knights_66074.jpg -> Annotation:D:/Python/HockeyPlayerDetection/Tensorflow/workspace/images/unlabeled\\NHL__Jan.06_2022___New_York_Rangers_-_Vegas_Golden_Knights_66074.xml\n",
      "Image:D:\\Python\\HockeyPlayerDetection\\Tensorflow\\workspace\\images\\unlabeled\\NHL__Jan.06_2022___New_York_Rangers_-_Vegas_Golden_Knights_66074.jpg -> Annotation:D:/Python/HockeyPlayerDetection/Tensorflow/workspace/images/unlabeled\\NHL__Jan.06_2022___New_York_Rangers_-_Vegas_Golden_Knights_66074.xml\n",
      "Image:D:\\Python\\HockeyPlayerDetection\\Tensorflow\\workspace\\images\\unlabeled\\NHL__Jan.06_2022___New_York_Rangers_-_Vegas_Golden_Knights_104309.jpg -> Annotation:D:/Python/HockeyPlayerDetection/Tensorflow/workspace/images/unlabeled\\NHL__Jan.06_2022___New_York_Rangers_-_Vegas_Golden_Knights_104309.xml\n",
      "Image:D:\\Python\\HockeyPlayerDetection\\Tensorflow\\workspace\\images\\unlabeled\\NHL__Jan.06_2022___New_York_Rangers_-_Vegas_Golden_Knights_104309.jpg -> Annotation:D:/Python/HockeyPlayerDetection/Tensorflow/workspace/images/unlabeled\\NHL__Jan.06_2022___New_York_Rangers_-_Vegas_Golden_Knights_104309.xml\n",
      "Cancel creation.\n",
      "Image:D:\\Python\\HockeyPlayerDetection\\Tensorflow\\workspace\\images\\unlabeled\\NHL__Jan.06_2022___New_York_Rangers_-_Vegas_Golden_Knights_130691.jpg -> Annotation:D:/Python/HockeyPlayerDetection/Tensorflow/workspace/images/unlabeled\\NHL__Jan.06_2022___New_York_Rangers_-_Vegas_Golden_Knights_130691.xml\n",
      "Image:D:\\Python\\HockeyPlayerDetection\\Tensorflow\\workspace\\images\\unlabeled\\NHL__Jan.06_2022___New_York_Rangers_-_Vegas_Golden_Knights_130691.jpg -> Annotation:D:/Python/HockeyPlayerDetection/Tensorflow/workspace/images/unlabeled\\NHL__Jan.06_2022___New_York_Rangers_-_Vegas_Golden_Knights_130691.xml\n",
      "Image:D:\\Python\\HockeyPlayerDetection\\Tensorflow\\workspace\\images\\unlabeled\\NHL__Jan.06_2022___New_York_Rangers_-_Vegas_Golden_Knights_135304.jpg -> Annotation:D:/Python/HockeyPlayerDetection/Tensorflow/workspace/images/unlabeled\\NHL__Jan.06_2022___New_York_Rangers_-_Vegas_Golden_Knights_135304.xml\n",
      "Image:D:\\Python\\HockeyPlayerDetection\\Tensorflow\\workspace\\images\\unlabeled\\NHL__Jan.06_2022___New_York_Rangers_-_Vegas_Golden_Knights_135304.jpg -> Annotation:D:/Python/HockeyPlayerDetection/Tensorflow/workspace/images/unlabeled\\NHL__Jan.06_2022___New_York_Rangers_-_Vegas_Golden_Knights_135304.xml\n",
      "Image:D:\\Python\\HockeyPlayerDetection\\Tensorflow\\workspace\\images\\unlabeled\\NHL__Jan.06_2022___New_York_Rangers_-_Vegas_Golden_Knights_157954.jpg -> Annotation:D:/Python/HockeyPlayerDetection/Tensorflow/workspace/images/unlabeled\\NHL__Jan.06_2022___New_York_Rangers_-_Vegas_Golden_Knights_157954.xml\n",
      "Image:D:\\Python\\HockeyPlayerDetection\\Tensorflow\\workspace\\images\\unlabeled\\NHL__Jan.06_2022___New_York_Rangers_-_Vegas_Golden_Knights_157954.jpg -> Annotation:D:/Python/HockeyPlayerDetection/Tensorflow/workspace/images/unlabeled\\NHL__Jan.06_2022___New_York_Rangers_-_Vegas_Golden_Knights_157954.xml\n",
      "Image:D:\\Python\\HockeyPlayerDetection\\Tensorflow\\workspace\\images\\unlabeled\\NHL__Jan.06_2022___San_Jose_Sharks_-_Buffalo_Sabres_32126.jpg -> Annotation:D:/Python/HockeyPlayerDetection/Tensorflow/workspace/images/unlabeled\\NHL__Jan.06_2022___San_Jose_Sharks_-_Buffalo_Sabres_32126.xml\n",
      "Image:D:\\Python\\HockeyPlayerDetection\\Tensorflow\\workspace\\images\\unlabeled\\NHL__Jan.06_2022___San_Jose_Sharks_-_Buffalo_Sabres_32126.jpg -> Annotation:D:/Python/HockeyPlayerDetection/Tensorflow/workspace/images/unlabeled\\NHL__Jan.06_2022___San_Jose_Sharks_-_Buffalo_Sabres_32126.xml\n",
      "Image:D:\\Python\\HockeyPlayerDetection\\Tensorflow\\workspace\\images\\unlabeled\\NHL__Jan.06_2022___San_Jose_Sharks_-_Buffalo_Sabres_32126.jpg -> Annotation:D:/Python/HockeyPlayerDetection/Tensorflow/workspace/images/unlabeled\\NHL__Jan.06_2022___San_Jose_Sharks_-_Buffalo_Sabres_32126.xml\n",
      "Image:D:\\Python\\HockeyPlayerDetection\\Tensorflow\\workspace\\images\\unlabeled\\NHL__Jan.06_2022___San_Jose_Sharks_-_Buffalo_Sabres_32126.jpg -> Annotation:D:/Python/HockeyPlayerDetection/Tensorflow/workspace/images/unlabeled\\NHL__Jan.06_2022___San_Jose_Sharks_-_Buffalo_Sabres_32126.xml\n",
      "Image:D:\\Python\\HockeyPlayerDetection\\Tensorflow\\workspace\\images\\unlabeled\\NHL__Jan.06_2022___San_Jose_Sharks_-_Buffalo_Sabres_32126.jpg -> Annotation:D:/Python/HockeyPlayerDetection/Tensorflow/workspace/images/unlabeled\\NHL__Jan.06_2022___San_Jose_Sharks_-_Buffalo_Sabres_32126.xml\n",
      "Image:D:\\Python\\HockeyPlayerDetection\\Tensorflow\\workspace\\images\\unlabeled\\NHL__Jan.06_2022___San_Jose_Sharks_-_Buffalo_Sabres_39280.jpg -> Annotation:D:/Python/HockeyPlayerDetection/Tensorflow/workspace/images/unlabeled\\NHL__Jan.06_2022___San_Jose_Sharks_-_Buffalo_Sabres_39280.xml\n",
      "Image:D:\\Python\\HockeyPlayerDetection\\Tensorflow\\workspace\\images\\unlabeled\\NHL__Jan.06_2022___San_Jose_Sharks_-_Buffalo_Sabres_39280.jpg -> Annotation:D:/Python/HockeyPlayerDetection/Tensorflow/workspace/images/unlabeled\\NHL__Jan.06_2022___San_Jose_Sharks_-_Buffalo_Sabres_39280.xml\n",
      "Image:D:\\Python\\HockeyPlayerDetection\\Tensorflow\\workspace\\images\\unlabeled\\NHL__Jan.06_2022___San_Jose_Sharks_-_Buffalo_Sabres_39280.jpg -> Annotation:D:/Python/HockeyPlayerDetection/Tensorflow/workspace/images/unlabeled\\NHL__Jan.06_2022___San_Jose_Sharks_-_Buffalo_Sabres_39280.xml\n",
      "Image:D:\\Python\\HockeyPlayerDetection\\Tensorflow\\workspace\\images\\unlabeled\\NHL__Jan.06_2022___San_Jose_Sharks_-_Buffalo_Sabres_122187.jpg -> Annotation:D:/Python/HockeyPlayerDetection/Tensorflow/workspace/images/unlabeled\\NHL__Jan.06_2022___San_Jose_Sharks_-_Buffalo_Sabres_122187.xml\n",
      "Image:D:\\Python\\HockeyPlayerDetection\\Tensorflow\\workspace\\images\\unlabeled\\NHL__Jan.06_2022___San_Jose_Sharks_-_Buffalo_Sabres_122187.jpg -> Annotation:D:/Python/HockeyPlayerDetection/Tensorflow/workspace/images/unlabeled\\NHL__Jan.06_2022___San_Jose_Sharks_-_Buffalo_Sabres_122187.xml\n",
      "Image:D:\\Python\\HockeyPlayerDetection\\Tensorflow\\workspace\\images\\unlabeled\\NHL__Jan.06_2022___San_Jose_Sharks_-_Buffalo_Sabres_122187.jpg -> Annotation:D:/Python/HockeyPlayerDetection/Tensorflow/workspace/images/unlabeled\\NHL__Jan.06_2022___San_Jose_Sharks_-_Buffalo_Sabres_122187.xml\n",
      "Image:D:\\Python\\HockeyPlayerDetection\\Tensorflow\\workspace\\images\\unlabeled\\NHL__Jan.06_2022___San_Jose_Sharks_-_Buffalo_Sabres_170450.jpg -> Annotation:D:/Python/HockeyPlayerDetection/Tensorflow/workspace/images/unlabeled\\NHL__Jan.06_2022___San_Jose_Sharks_-_Buffalo_Sabres_170450.xml\n",
      "Image:D:\\Python\\HockeyPlayerDetection\\Tensorflow\\workspace\\images\\unlabeled\\NHL__Jan.06_2022___San_Jose_Sharks_-_Buffalo_Sabres_170450.jpg -> Annotation:D:/Python/HockeyPlayerDetection/Tensorflow/workspace/images/unlabeled\\NHL__Jan.06_2022___San_Jose_Sharks_-_Buffalo_Sabres_170450.xml\n",
      "Image:D:\\Python\\HockeyPlayerDetection\\Tensorflow\\workspace\\images\\unlabeled\\NHL__Jan.06_2022___San_Jose_Sharks_-_Buffalo_Sabres_202276.jpg -> Annotation:D:/Python/HockeyPlayerDetection/Tensorflow/workspace/images/unlabeled\\NHL__Jan.06_2022___San_Jose_Sharks_-_Buffalo_Sabres_202276.xml\n",
      "Image:D:\\Python\\HockeyPlayerDetection\\Tensorflow\\workspace\\images\\unlabeled\\NHL__Jan.06_2022___San_Jose_Sharks_-_Buffalo_Sabres_202276.jpg -> Annotation:D:/Python/HockeyPlayerDetection/Tensorflow/workspace/images/unlabeled\\NHL__Jan.06_2022___San_Jose_Sharks_-_Buffalo_Sabres_202276.xml\n",
      "Image:D:\\Python\\HockeyPlayerDetection\\Tensorflow\\workspace\\images\\unlabeled\\NHL__Jan.06_2022___San_Jose_Sharks_-_Buffalo_Sabres_202276.jpg -> Annotation:D:/Python/HockeyPlayerDetection/Tensorflow/workspace/images/unlabeled\\NHL__Jan.06_2022___San_Jose_Sharks_-_Buffalo_Sabres_202276.xml\n",
      "Image:D:\\Python\\HockeyPlayerDetection\\Tensorflow\\workspace\\images\\unlabeled\\NHL__Jan.06_2022___San_Jose_Sharks_-_Buffalo_Sabres_208772.jpg -> Annotation:D:/Python/HockeyPlayerDetection/Tensorflow/workspace/images/unlabeled\\NHL__Jan.06_2022___San_Jose_Sharks_-_Buffalo_Sabres_208772.xml\n",
      "Image:D:\\Python\\HockeyPlayerDetection\\Tensorflow\\workspace\\images\\unlabeled\\NHL__Jan.06_2022___San_Jose_Sharks_-_Buffalo_Sabres_208772.jpg -> Annotation:D:/Python/HockeyPlayerDetection/Tensorflow/workspace/images/unlabeled\\NHL__Jan.06_2022___San_Jose_Sharks_-_Buffalo_Sabres_208772.xml\n",
      "Image:D:\\Python\\HockeyPlayerDetection\\Tensorflow\\workspace\\images\\unlabeled\\NHL__Jan.06_2022___San_Jose_Sharks_-_Buffalo_Sabres_208772.jpg -> Annotation:D:/Python/HockeyPlayerDetection/Tensorflow/workspace/images/unlabeled\\NHL__Jan.06_2022___San_Jose_Sharks_-_Buffalo_Sabres_208772.xml\n",
      "Image:D:\\Python\\HockeyPlayerDetection\\Tensorflow\\workspace\\images\\unlabeled\\NHL__Jan.06_2022___Winnipeg_Jets_-_Colorado_Avalanche_31965.jpg -> Annotation:D:/Python/HockeyPlayerDetection/Tensorflow/workspace/images/unlabeled\\NHL__Jan.06_2022___Winnipeg_Jets_-_Colorado_Avalanche_31965.xml\n",
      "Image:D:\\Python\\HockeyPlayerDetection\\Tensorflow\\workspace\\images\\unlabeled\\NHL__Jan.06_2022___Winnipeg_Jets_-_Colorado_Avalanche_31965.jpg -> Annotation:D:/Python/HockeyPlayerDetection/Tensorflow/workspace/images/unlabeled\\NHL__Jan.06_2022___Winnipeg_Jets_-_Colorado_Avalanche_31965.xml\n",
      "Image:D:\\Python\\HockeyPlayerDetection\\Tensorflow\\workspace\\images\\unlabeled\\NHL__Jan.06_2022___Winnipeg_Jets_-_Colorado_Avalanche_65378.jpg -> Annotation:D:/Python/HockeyPlayerDetection/Tensorflow/workspace/images/unlabeled\\NHL__Jan.06_2022___Winnipeg_Jets_-_Colorado_Avalanche_65378.xml\n",
      "Image:D:\\Python\\HockeyPlayerDetection\\Tensorflow\\workspace\\images\\unlabeled\\NHL__Jan.06_2022___Winnipeg_Jets_-_Colorado_Avalanche_65378.jpg -> Annotation:D:/Python/HockeyPlayerDetection/Tensorflow/workspace/images/unlabeled\\NHL__Jan.06_2022___Winnipeg_Jets_-_Colorado_Avalanche_65378.xml\n",
      "Image:D:\\Python\\HockeyPlayerDetection\\Tensorflow\\workspace\\images\\unlabeled\\NHL__Jan.06_2022___Winnipeg_Jets_-_Colorado_Avalanche_96473.jpg -> Annotation:D:/Python/HockeyPlayerDetection/Tensorflow/workspace/images/unlabeled\\NHL__Jan.06_2022___Winnipeg_Jets_-_Colorado_Avalanche_96473.xml\n",
      "Image:D:\\Python\\HockeyPlayerDetection\\Tensorflow\\workspace\\images\\unlabeled\\NHL__Jan.06_2022___Winnipeg_Jets_-_Colorado_Avalanche_96473.jpg -> Annotation:D:/Python/HockeyPlayerDetection/Tensorflow/workspace/images/unlabeled\\NHL__Jan.06_2022___Winnipeg_Jets_-_Colorado_Avalanche_96473.xml\n",
      "Image:D:\\Python\\HockeyPlayerDetection\\Tensorflow\\workspace\\images\\unlabeled\\NHL__Jan.06_2022___Winnipeg_Jets_-_Colorado_Avalanche_96473.jpg -> Annotation:D:/Python/HockeyPlayerDetection/Tensorflow/workspace/images/unlabeled\\NHL__Jan.06_2022___Winnipeg_Jets_-_Colorado_Avalanche_96473.xml\n",
      "Image:D:\\Python\\HockeyPlayerDetection\\Tensorflow\\workspace\\images\\unlabeled\\NHL__Jan.06_2022___Winnipeg_Jets_-_Colorado_Avalanche_117429.jpg -> Annotation:D:/Python/HockeyPlayerDetection/Tensorflow/workspace/images/unlabeled\\NHL__Jan.06_2022___Winnipeg_Jets_-_Colorado_Avalanche_117429.xml\n",
      "Image:D:\\Python\\HockeyPlayerDetection\\Tensorflow\\workspace\\images\\unlabeled\\NHL__Jan.06_2022___Winnipeg_Jets_-_Colorado_Avalanche_117429.jpg -> Annotation:D:/Python/HockeyPlayerDetection/Tensorflow/workspace/images/unlabeled\\NHL__Jan.06_2022___Winnipeg_Jets_-_Colorado_Avalanche_117429.xml\n",
      "Image:D:\\Python\\HockeyPlayerDetection\\Tensorflow\\workspace\\images\\unlabeled\\NHL__Jan.06_2022___Winnipeg_Jets_-_Colorado_Avalanche_117429.jpg -> Annotation:D:/Python/HockeyPlayerDetection/Tensorflow/workspace/images/unlabeled\\NHL__Jan.06_2022___Winnipeg_Jets_-_Colorado_Avalanche_117429.xml\n",
      "Image:D:\\Python\\HockeyPlayerDetection\\Tensorflow\\workspace\\images\\unlabeled\\NHL__Jan.06_2022___Winnipeg_Jets_-_Colorado_Avalanche_125619.jpg -> Annotation:D:/Python/HockeyPlayerDetection/Tensorflow/workspace/images/unlabeled\\NHL__Jan.06_2022___Winnipeg_Jets_-_Colorado_Avalanche_125619.xml\n",
      "Image:D:\\Python\\HockeyPlayerDetection\\Tensorflow\\workspace\\images\\unlabeled\\NHL__Jan.06_2022___Winnipeg_Jets_-_Colorado_Avalanche_125619.jpg -> Annotation:D:/Python/HockeyPlayerDetection/Tensorflow/workspace/images/unlabeled\\NHL__Jan.06_2022___Winnipeg_Jets_-_Colorado_Avalanche_125619.xml\n",
      "Image:D:\\Python\\HockeyPlayerDetection\\Tensorflow\\workspace\\images\\unlabeled\\NHL__Jan.06_2022___Winnipeg_Jets_-_Colorado_Avalanche_125619.jpg -> Annotation:D:/Python/HockeyPlayerDetection/Tensorflow/workspace/images/unlabeled\\NHL__Jan.06_2022___Winnipeg_Jets_-_Colorado_Avalanche_125619.xml\n",
      "Image:D:\\Python\\HockeyPlayerDetection\\Tensorflow\\workspace\\images\\unlabeled\\NHL__Jan.06_2022___Winnipeg_Jets_-_Colorado_Avalanche_125619.jpg -> Annotation:D:/Python/HockeyPlayerDetection/Tensorflow/workspace/images/unlabeled\\NHL__Jan.06_2022___Winnipeg_Jets_-_Colorado_Avalanche_125619.xml\n",
      "Image:D:\\Python\\HockeyPlayerDetection\\Tensorflow\\workspace\\images\\unlabeled\\NHL__Jan.06_2022___Winnipeg_Jets_-_Colorado_Avalanche_125619.jpg -> Annotation:D:/Python/HockeyPlayerDetection/Tensorflow/workspace/images/unlabeled\\NHL__Jan.06_2022___Winnipeg_Jets_-_Colorado_Avalanche_125619.xml\n",
      "Image:D:\\Python\\HockeyPlayerDetection\\Tensorflow\\workspace\\images\\unlabeled\\NHL__Jan.06_2022___Winnipeg_Jets_-_Colorado_Avalanche_125619.jpg -> Annotation:D:/Python/HockeyPlayerDetection/Tensorflow/workspace/images/unlabeled\\NHL__Jan.06_2022___Winnipeg_Jets_-_Colorado_Avalanche_125619.xml\n",
      "Image:D:\\Python\\HockeyPlayerDetection\\Tensorflow\\workspace\\images\\unlabeled\\NHL__Jan.06_2022___Winnipeg_Jets_-_Colorado_Avalanche_125619.jpg -> Annotation:D:/Python/HockeyPlayerDetection/Tensorflow/workspace/images/unlabeled\\NHL__Jan.06_2022___Winnipeg_Jets_-_Colorado_Avalanche_125619.xml\n",
      "Image:D:\\Python\\HockeyPlayerDetection\\Tensorflow\\workspace\\images\\unlabeled\\NHL__Jan.06_2022___Winnipeg_Jets_-_Colorado_Avalanche_125619.jpg -> Annotation:D:/Python/HockeyPlayerDetection/Tensorflow/workspace/images/unlabeled\\NHL__Jan.06_2022___Winnipeg_Jets_-_Colorado_Avalanche_125619.xml\n",
      "Image:D:\\Python\\HockeyPlayerDetection\\Tensorflow\\workspace\\images\\unlabeled\\NHL__Jan.06_2022___Winnipeg_Jets_-_Colorado_Avalanche_125619.jpg -> Annotation:D:/Python/HockeyPlayerDetection/Tensorflow/workspace/images/unlabeled\\NHL__Jan.06_2022___Winnipeg_Jets_-_Colorado_Avalanche_125619.xml\n",
      "Image:D:\\Python\\HockeyPlayerDetection\\Tensorflow\\workspace\\images\\unlabeled\\NHL__Jan.06_2022___Winnipeg_Jets_-_Colorado_Avalanche_156043.jpg -> Annotation:D:/Python/HockeyPlayerDetection/Tensorflow/workspace/images/unlabeled\\NHL__Jan.06_2022___Winnipeg_Jets_-_Colorado_Avalanche_156043.xml\n",
      "Image:D:\\Python\\HockeyPlayerDetection\\Tensorflow\\workspace\\images\\unlabeled\\NHL__Jan.06_2022___Winnipeg_Jets_-_Colorado_Avalanche_156043.jpg -> Annotation:D:/Python/HockeyPlayerDetection/Tensorflow/workspace/images/unlabeled\\NHL__Jan.06_2022___Winnipeg_Jets_-_Colorado_Avalanche_156043.xml\n",
      "Image:D:\\Python\\HockeyPlayerDetection\\Tensorflow\\workspace\\images\\unlabeled\\NHL__Jan.06_2022___Winnipeg_Jets_-_Colorado_Avalanche_156043.jpg -> Annotation:D:/Python/HockeyPlayerDetection/Tensorflow/workspace/images/unlabeled\\NHL__Jan.06_2022___Winnipeg_Jets_-_Colorado_Avalanche_156043.xml\n",
      "Image:D:\\Python\\HockeyPlayerDetection\\Tensorflow\\workspace\\images\\unlabeled\\NHL__Jan.06_2022___Winnipeg_Jets_-_Colorado_Avalanche_156043.jpg -> Annotation:D:/Python/HockeyPlayerDetection/Tensorflow/workspace/images/unlabeled\\NHL__Jan.06_2022___Winnipeg_Jets_-_Colorado_Avalanche_156043.xml\n",
      "Image:D:\\Python\\HockeyPlayerDetection\\Tensorflow\\workspace\\images\\unlabeled\\NHL__Jan.06_2022___Winnipeg_Jets_-_Colorado_Avalanche_158491.jpg -> Annotation:D:/Python/HockeyPlayerDetection/Tensorflow/workspace/images/unlabeled\\NHL__Jan.06_2022___Winnipeg_Jets_-_Colorado_Avalanche_158491.xml\n",
      "Image:D:\\Python\\HockeyPlayerDetection\\Tensorflow\\workspace\\images\\unlabeled\\NHL__Jan.06_2022___Winnipeg_Jets_-_Colorado_Avalanche_158491.jpg -> Annotation:D:/Python/HockeyPlayerDetection/Tensorflow/workspace/images/unlabeled\\NHL__Jan.06_2022___Winnipeg_Jets_-_Colorado_Avalanche_158491.xml\n",
      "Image:D:\\Python\\HockeyPlayerDetection\\Tensorflow\\workspace\\images\\unlabeled\\NHL__Jan.06_2022___Winnipeg_Jets_-_Colorado_Avalanche_158491.jpg -> Annotation:D:/Python/HockeyPlayerDetection/Tensorflow/workspace/images/unlabeled\\NHL__Jan.06_2022___Winnipeg_Jets_-_Colorado_Avalanche_158491.xml\n",
      "Image:D:\\Python\\HockeyPlayerDetection\\Tensorflow\\workspace\\images\\unlabeled\\NHL__Jan.06_2022___Winnipeg_Jets_-_Colorado_Avalanche_158491.jpg -> Annotation:D:/Python/HockeyPlayerDetection/Tensorflow/workspace/images/unlabeled\\NHL__Jan.06_2022___Winnipeg_Jets_-_Colorado_Avalanche_158491.xml\n",
      "Image:D:\\Python\\HockeyPlayerDetection\\Tensorflow\\workspace\\images\\unlabeled\\NHL__Jan.06_2022___Winnipeg_Jets_-_Colorado_Avalanche_158491.jpg -> Annotation:D:/Python/HockeyPlayerDetection/Tensorflow/workspace/images/unlabeled\\NHL__Jan.06_2022___Winnipeg_Jets_-_Colorado_Avalanche_158491.xml\n",
      "Image:D:\\Python\\HockeyPlayerDetection\\Tensorflow\\workspace\\images\\unlabeled\\NHL__Jan.06_2022___Winnipeg_Jets_-_Colorado_Avalanche_187604.jpg -> Annotation:D:/Python/HockeyPlayerDetection/Tensorflow/workspace/images/unlabeled\\NHL__Jan.06_2022___Winnipeg_Jets_-_Colorado_Avalanche_187604.xml\n",
      "Image:D:\\Python\\HockeyPlayerDetection\\Tensorflow\\workspace\\images\\unlabeled\\NHL__Jan.06_2022___Winnipeg_Jets_-_Colorado_Avalanche_187604.jpg -> Annotation:D:/Python/HockeyPlayerDetection/Tensorflow/workspace/images/unlabeled\\NHL__Jan.06_2022___Winnipeg_Jets_-_Colorado_Avalanche_187604.xml\n",
      "Image:D:\\Python\\HockeyPlayerDetection\\Tensorflow\\workspace\\images\\unlabeled\\NHL__Jan.06_2022___Winnipeg_Jets_-_Colorado_Avalanche_187604.jpg -> Annotation:D:/Python/HockeyPlayerDetection/Tensorflow/workspace/images/unlabeled\\NHL__Jan.06_2022___Winnipeg_Jets_-_Colorado_Avalanche_187604.xml\n",
      "Image:D:\\Python\\HockeyPlayerDetection\\Tensorflow\\workspace\\images\\unlabeled\\NHL__Jan.06_2022___Winnipeg_Jets_-_Colorado_Avalanche_187604.jpg -> Annotation:D:/Python/HockeyPlayerDetection/Tensorflow/workspace/images/unlabeled\\NHL__Jan.06_2022___Winnipeg_Jets_-_Colorado_Avalanche_187604.xml\n",
      "Image:D:\\Python\\HockeyPlayerDetection\\Tensorflow\\workspace\\images\\unlabeled\\NHL__Jan.08_2022___Pittsburgh_Penguins_-_Dallas_Stars_74519.jpg -> Annotation:D:/Python/HockeyPlayerDetection/Tensorflow/workspace/images/unlabeled\\NHL__Jan.08_2022___Pittsburgh_Penguins_-_Dallas_Stars_74519.xml\n",
      "Image:D:\\Python\\HockeyPlayerDetection\\Tensorflow\\workspace\\images\\unlabeled\\NHL__Jan.08_2022___Pittsburgh_Penguins_-_Dallas_Stars_74519.jpg -> Annotation:D:/Python/HockeyPlayerDetection/Tensorflow/workspace/images/unlabeled\\NHL__Jan.08_2022___Pittsburgh_Penguins_-_Dallas_Stars_74519.xml\n",
      "Image:D:\\Python\\HockeyPlayerDetection\\Tensorflow\\workspace\\images\\unlabeled\\NHL__Jan.08_2022___Pittsburgh_Penguins_-_Dallas_Stars_74519.jpg -> Annotation:D:/Python/HockeyPlayerDetection/Tensorflow/workspace/images/unlabeled\\NHL__Jan.08_2022___Pittsburgh_Penguins_-_Dallas_Stars_74519.xml\n",
      "Image:D:\\Python\\HockeyPlayerDetection\\Tensorflow\\workspace\\images\\unlabeled\\NHL__Jan.08_2022___Pittsburgh_Penguins_-_Dallas_Stars_74519.jpg -> Annotation:D:/Python/HockeyPlayerDetection/Tensorflow/workspace/images/unlabeled\\NHL__Jan.08_2022___Pittsburgh_Penguins_-_Dallas_Stars_74519.xml\n",
      "Image:D:\\Python\\HockeyPlayerDetection\\Tensorflow\\workspace\\images\\unlabeled\\NHL__Jan.08_2022___Pittsburgh_Penguins_-_Dallas_Stars_74519.jpg -> Annotation:D:/Python/HockeyPlayerDetection/Tensorflow/workspace/images/unlabeled\\NHL__Jan.08_2022___Pittsburgh_Penguins_-_Dallas_Stars_74519.xml\n",
      "Image:D:\\Python\\HockeyPlayerDetection\\Tensorflow\\workspace\\images\\unlabeled\\NHL__Jan.08_2022___Pittsburgh_Penguins_-_Dallas_Stars_85433.jpg -> Annotation:D:/Python/HockeyPlayerDetection/Tensorflow/workspace/images/unlabeled\\NHL__Jan.08_2022___Pittsburgh_Penguins_-_Dallas_Stars_85433.xml\n",
      "Image:D:\\Python\\HockeyPlayerDetection\\Tensorflow\\workspace\\images\\unlabeled\\NHL__Jan.08_2022___Pittsburgh_Penguins_-_Dallas_Stars_85433.jpg -> Annotation:D:/Python/HockeyPlayerDetection/Tensorflow/workspace/images/unlabeled\\NHL__Jan.08_2022___Pittsburgh_Penguins_-_Dallas_Stars_85433.xml\n",
      "Image:D:\\Python\\HockeyPlayerDetection\\Tensorflow\\workspace\\images\\unlabeled\\NHL__Jan.08_2022___Pittsburgh_Penguins_-_Dallas_Stars_85433.jpg -> Annotation:D:/Python/HockeyPlayerDetection/Tensorflow/workspace/images/unlabeled\\NHL__Jan.08_2022___Pittsburgh_Penguins_-_Dallas_Stars_85433.xml\n",
      "Image:D:\\Python\\HockeyPlayerDetection\\Tensorflow\\workspace\\images\\unlabeled\\NHL__Jan.08_2022___Pittsburgh_Penguins_-_Dallas_Stars_85433.jpg -> Annotation:D:/Python/HockeyPlayerDetection/Tensorflow/workspace/images/unlabeled\\NHL__Jan.08_2022___Pittsburgh_Penguins_-_Dallas_Stars_85433.xml\n",
      "Image:D:\\Python\\HockeyPlayerDetection\\Tensorflow\\workspace\\images\\unlabeled\\NHL__Jan.08_2022___Pittsburgh_Penguins_-_Dallas_Stars_85433.jpg -> Annotation:D:/Python/HockeyPlayerDetection/Tensorflow/workspace/images/unlabeled\\NHL__Jan.08_2022___Pittsburgh_Penguins_-_Dallas_Stars_85433.xml\n",
      "Image:D:\\Python\\HockeyPlayerDetection\\Tensorflow\\workspace\\images\\unlabeled\\NHL__Jan.08_2022___Pittsburgh_Penguins_-_Dallas_Stars_111079.jpg -> Annotation:D:/Python/HockeyPlayerDetection/Tensorflow/workspace/images/unlabeled\\NHL__Jan.08_2022___Pittsburgh_Penguins_-_Dallas_Stars_111079.xml\n",
      "Image:D:\\Python\\HockeyPlayerDetection\\Tensorflow\\workspace\\images\\unlabeled\\NHL__Jan.08_2022___Pittsburgh_Penguins_-_Dallas_Stars_111079.jpg -> Annotation:D:/Python/HockeyPlayerDetection/Tensorflow/workspace/images/unlabeled\\NHL__Jan.08_2022___Pittsburgh_Penguins_-_Dallas_Stars_111079.xml\n",
      "Image:D:\\Python\\HockeyPlayerDetection\\Tensorflow\\workspace\\images\\unlabeled\\NHL__Jan.08_2022___Pittsburgh_Penguins_-_Dallas_Stars_111079.jpg -> Annotation:D:/Python/HockeyPlayerDetection/Tensorflow/workspace/images/unlabeled\\NHL__Jan.08_2022___Pittsburgh_Penguins_-_Dallas_Stars_111079.xml\n",
      "Image:D:\\Python\\HockeyPlayerDetection\\Tensorflow\\workspace\\images\\unlabeled\\NHL__Jan.08_2022___Pittsburgh_Penguins_-_Dallas_Stars_126721.jpg -> Annotation:D:/Python/HockeyPlayerDetection/Tensorflow/workspace/images/unlabeled\\NHL__Jan.08_2022___Pittsburgh_Penguins_-_Dallas_Stars_126721.xml\n",
      "Image:D:\\Python\\HockeyPlayerDetection\\Tensorflow\\workspace\\images\\unlabeled\\NHL__Jan.08_2022___Pittsburgh_Penguins_-_Dallas_Stars_126721.jpg -> Annotation:D:/Python/HockeyPlayerDetection/Tensorflow/workspace/images/unlabeled\\NHL__Jan.08_2022___Pittsburgh_Penguins_-_Dallas_Stars_126721.xml\n",
      "Image:D:\\Python\\HockeyPlayerDetection\\Tensorflow\\workspace\\images\\unlabeled\\NHL__Jan.08_2022___Pittsburgh_Penguins_-_Dallas_Stars_126721.jpg -> Annotation:D:/Python/HockeyPlayerDetection/Tensorflow/workspace/images/unlabeled\\NHL__Jan.08_2022___Pittsburgh_Penguins_-_Dallas_Stars_126721.xml\n",
      "Image:D:\\Python\\HockeyPlayerDetection\\Tensorflow\\workspace\\images\\unlabeled\\NHL__Jan.08_2022___Pittsburgh_Penguins_-_Dallas_Stars_126721.jpg -> Annotation:D:/Python/HockeyPlayerDetection/Tensorflow/workspace/images/unlabeled\\NHL__Jan.08_2022___Pittsburgh_Penguins_-_Dallas_Stars_126721.xml\n",
      "Image:D:\\Python\\HockeyPlayerDetection\\Tensorflow\\workspace\\images\\unlabeled\\NHL__Jan.08_2022___Pittsburgh_Penguins_-_Dallas_Stars_126721.jpg -> Annotation:D:/Python/HockeyPlayerDetection/Tensorflow/workspace/images/unlabeled\\NHL__Jan.08_2022___Pittsburgh_Penguins_-_Dallas_Stars_126721.xml\n",
      "Image:D:\\Python\\HockeyPlayerDetection\\Tensorflow\\workspace\\images\\unlabeled\\NHL__Jan.08_2022___Pittsburgh_Penguins_-_Dallas_Stars_126721.jpg -> Annotation:D:/Python/HockeyPlayerDetection/Tensorflow/workspace/images/unlabeled\\NHL__Jan.08_2022___Pittsburgh_Penguins_-_Dallas_Stars_126721.xml\n",
      "Image:D:\\Python\\HockeyPlayerDetection\\Tensorflow\\workspace\\images\\unlabeled\\NHL__Jan.08_2022___Pittsburgh_Penguins_-_Dallas_Stars_126721.jpg -> Annotation:D:/Python/HockeyPlayerDetection/Tensorflow/workspace/images/unlabeled\\NHL__Jan.08_2022___Pittsburgh_Penguins_-_Dallas_Stars_126721.xml\n",
      "Image:D:\\Python\\HockeyPlayerDetection\\Tensorflow\\workspace\\images\\unlabeled\\NHL__Jan.08_2022___Pittsburgh_Penguins_-_Dallas_Stars_169385.jpg -> Annotation:D:/Python/HockeyPlayerDetection/Tensorflow/workspace/images/unlabeled\\NHL__Jan.08_2022___Pittsburgh_Penguins_-_Dallas_Stars_169385.xml\n",
      "Image:D:\\Python\\HockeyPlayerDetection\\Tensorflow\\workspace\\images\\unlabeled\\NHL__Jan.08_2022___Pittsburgh_Penguins_-_Dallas_Stars_169385.jpg -> Annotation:D:/Python/HockeyPlayerDetection/Tensorflow/workspace/images/unlabeled\\NHL__Jan.08_2022___Pittsburgh_Penguins_-_Dallas_Stars_169385.xml\n",
      "Image:D:\\Python\\HockeyPlayerDetection\\Tensorflow\\workspace\\images\\unlabeled\\NHL__Jan.08_2022___Pittsburgh_Penguins_-_Dallas_Stars_169385.jpg -> Annotation:D:/Python/HockeyPlayerDetection/Tensorflow/workspace/images/unlabeled\\NHL__Jan.08_2022___Pittsburgh_Penguins_-_Dallas_Stars_169385.xml\n",
      "Image:D:\\Python\\HockeyPlayerDetection\\Tensorflow\\workspace\\images\\unlabeled\\NHL__Jan.08_2022___Pittsburgh_Penguins_-_Dallas_Stars_169385.jpg -> Annotation:D:/Python/HockeyPlayerDetection/Tensorflow/workspace/images/unlabeled\\NHL__Jan.08_2022___Pittsburgh_Penguins_-_Dallas_Stars_169385.xml\n",
      "Image:D:\\Python\\HockeyPlayerDetection\\Tensorflow\\workspace\\images\\unlabeled\\NHL__Jan.08_2022___Pittsburgh_Penguins_-_Dallas_Stars_169385.jpg -> Annotation:D:/Python/HockeyPlayerDetection/Tensorflow/workspace/images/unlabeled\\NHL__Jan.08_2022___Pittsburgh_Penguins_-_Dallas_Stars_169385.xml\n",
      "Image:D:\\Python\\HockeyPlayerDetection\\Tensorflow\\workspace\\images\\unlabeled\\NHL__Jan.10_2022___New_York_Rangers_-_Los_Angeles_Kings_103403.jpg -> Annotation:D:/Python/HockeyPlayerDetection/Tensorflow/workspace/images/unlabeled\\NHL__Jan.10_2022___New_York_Rangers_-_Los_Angeles_Kings_103403.xml\n",
      "Image:D:\\Python\\HockeyPlayerDetection\\Tensorflow\\workspace\\images\\unlabeled\\NHL__Jan.10_2022___New_York_Rangers_-_Los_Angeles_Kings_103403.jpg -> Annotation:D:/Python/HockeyPlayerDetection/Tensorflow/workspace/images/unlabeled\\NHL__Jan.10_2022___New_York_Rangers_-_Los_Angeles_Kings_103403.xml\n",
      "Image:D:\\Python\\HockeyPlayerDetection\\Tensorflow\\workspace\\images\\unlabeled\\NHL__Jan.10_2022___New_York_Rangers_-_Los_Angeles_Kings_103403.jpg -> Annotation:D:/Python/HockeyPlayerDetection/Tensorflow/workspace/images/unlabeled\\NHL__Jan.10_2022___New_York_Rangers_-_Los_Angeles_Kings_103403.xml\n",
      "Image:D:\\Python\\HockeyPlayerDetection\\Tensorflow\\workspace\\images\\unlabeled\\NHL__Jan.10_2022___New_York_Rangers_-_Los_Angeles_Kings_30832.jpg -> Annotation:D:/Python/HockeyPlayerDetection/Tensorflow/workspace/images/unlabeled\\NHL__Jan.10_2022___New_York_Rangers_-_Los_Angeles_Kings_30832.xml\n",
      "Image:D:\\Python\\HockeyPlayerDetection\\Tensorflow\\workspace\\images\\unlabeled\\NHL__Jan.10_2022___New_York_Rangers_-_Los_Angeles_Kings_30832.jpg -> Annotation:D:/Python/HockeyPlayerDetection/Tensorflow/workspace/images/unlabeled\\NHL__Jan.10_2022___New_York_Rangers_-_Los_Angeles_Kings_30832.xml\n",
      "Image:D:\\Python\\HockeyPlayerDetection\\Tensorflow\\workspace\\images\\unlabeled\\NHL__Jan.10_2022___New_York_Rangers_-_Los_Angeles_Kings_30832.jpg -> Annotation:D:/Python/HockeyPlayerDetection/Tensorflow/workspace/images/unlabeled\\NHL__Jan.10_2022___New_York_Rangers_-_Los_Angeles_Kings_30832.xml\n",
      "Image:D:\\Python\\HockeyPlayerDetection\\Tensorflow\\workspace\\images\\unlabeled\\NHL__Jan.10_2022___New_York_Rangers_-_Los_Angeles_Kings_30832.jpg -> Annotation:D:/Python/HockeyPlayerDetection/Tensorflow/workspace/images/unlabeled\\NHL__Jan.10_2022___New_York_Rangers_-_Los_Angeles_Kings_30832.xml\n",
      "Image:D:\\Python\\HockeyPlayerDetection\\Tensorflow\\workspace\\images\\unlabeled\\NHL__Jan.10_2022___New_York_Rangers_-_Los_Angeles_Kings_30832.jpg -> Annotation:D:/Python/HockeyPlayerDetection/Tensorflow/workspace/images/unlabeled\\NHL__Jan.10_2022___New_York_Rangers_-_Los_Angeles_Kings_30832.xml\n",
      "Image:D:\\Python\\HockeyPlayerDetection\\Tensorflow\\workspace\\images\\unlabeled\\NHL__Jan.10_2022___New_York_Rangers_-_Los_Angeles_Kings_30832.jpg -> Annotation:D:/Python/HockeyPlayerDetection/Tensorflow/workspace/images/unlabeled\\NHL__Jan.10_2022___New_York_Rangers_-_Los_Angeles_Kings_30832.xml\n",
      "Image:D:\\Python\\HockeyPlayerDetection\\Tensorflow\\workspace\\images\\unlabeled\\NHL__Jan.11_2022__Vancouver_Canucks_-_Florida_Panthers_40083.jpg -> Annotation:D:/Python/HockeyPlayerDetection/Tensorflow/workspace/images/unlabeled\\NHL__Jan.11_2022__Vancouver_Canucks_-_Florida_Panthers_40083.xml\n",
      "Image:D:\\Python\\HockeyPlayerDetection\\Tensorflow\\workspace\\images\\unlabeled\\NHL__Jan.11_2022__Vancouver_Canucks_-_Florida_Panthers_40083.jpg -> Annotation:D:/Python/HockeyPlayerDetection/Tensorflow/workspace/images/unlabeled\\NHL__Jan.11_2022__Vancouver_Canucks_-_Florida_Panthers_40083.xml\n",
      "Image:D:\\Python\\HockeyPlayerDetection\\Tensorflow\\workspace\\images\\unlabeled\\NHL__Jan.11_2022__Vancouver_Canucks_-_Florida_Panthers_40083.jpg -> Annotation:D:/Python/HockeyPlayerDetection/Tensorflow/workspace/images/unlabeled\\NHL__Jan.11_2022__Vancouver_Canucks_-_Florida_Panthers_40083.xml\n",
      "Image:D:\\Python\\HockeyPlayerDetection\\Tensorflow\\workspace\\images\\unlabeled\\NHL__Jan.11_2022__Vancouver_Canucks_-_Florida_Panthers_40083.jpg -> Annotation:D:/Python/HockeyPlayerDetection/Tensorflow/workspace/images/unlabeled\\NHL__Jan.11_2022__Vancouver_Canucks_-_Florida_Panthers_40083.xml\n",
      "Image:D:\\Python\\HockeyPlayerDetection\\Tensorflow\\workspace\\images\\unlabeled\\NHL__Jan.11_2022__Vancouver_Canucks_-_Florida_Panthers_40083.jpg -> Annotation:D:/Python/HockeyPlayerDetection/Tensorflow/workspace/images/unlabeled\\NHL__Jan.11_2022__Vancouver_Canucks_-_Florida_Panthers_40083.xml\n",
      "Image:D:\\Python\\HockeyPlayerDetection\\Tensorflow\\workspace\\images\\unlabeled\\NHL__Jan.11_2022__Vancouver_Canucks_-_Florida_Panthers_40083.jpg -> Annotation:D:/Python/HockeyPlayerDetection/Tensorflow/workspace/images/unlabeled\\NHL__Jan.11_2022__Vancouver_Canucks_-_Florida_Panthers_40083.xml\n",
      "Image:D:\\Python\\HockeyPlayerDetection\\Tensorflow\\workspace\\images\\unlabeled\\NHL__Jan.11_2022__Vancouver_Canucks_-_Florida_Panthers_101094.jpg -> Annotation:D:/Python/HockeyPlayerDetection/Tensorflow/workspace/images/unlabeled\\NHL__Jan.11_2022__Vancouver_Canucks_-_Florida_Panthers_101094.xml\n",
      "Image:D:\\Python\\HockeyPlayerDetection\\Tensorflow\\workspace\\images\\unlabeled\\NHL__Jan.11_2022__Vancouver_Canucks_-_Florida_Panthers_101094.jpg -> Annotation:D:/Python/HockeyPlayerDetection/Tensorflow/workspace/images/unlabeled\\NHL__Jan.11_2022__Vancouver_Canucks_-_Florida_Panthers_101094.xml\n",
      "Image:D:\\Python\\HockeyPlayerDetection\\Tensorflow\\workspace\\images\\unlabeled\\NHL__Jan.11_2022__Vancouver_Canucks_-_Florida_Panthers_101094.jpg -> Annotation:D:/Python/HockeyPlayerDetection/Tensorflow/workspace/images/unlabeled\\NHL__Jan.11_2022__Vancouver_Canucks_-_Florida_Panthers_101094.xml\n",
      "Image:D:\\Python\\HockeyPlayerDetection\\Tensorflow\\workspace\\images\\unlabeled\\NHL__Jan.11_2022__Vancouver_Canucks_-_Florida_Panthers_101094.jpg -> Annotation:D:/Python/HockeyPlayerDetection/Tensorflow/workspace/images/unlabeled\\NHL__Jan.11_2022__Vancouver_Canucks_-_Florida_Panthers_101094.xml\n",
      "Image:D:\\Python\\HockeyPlayerDetection\\Tensorflow\\workspace\\images\\unlabeled\\NHL__Jan.11_2022__Vancouver_Canucks_-_Florida_Panthers_101094.jpg -> Annotation:D:/Python/HockeyPlayerDetection/Tensorflow/workspace/images/unlabeled\\NHL__Jan.11_2022__Vancouver_Canucks_-_Florida_Panthers_101094.xml\n",
      "Image:D:\\Python\\HockeyPlayerDetection\\Tensorflow\\workspace\\images\\unlabeled\\NHL__Jan.11_2022__Vancouver_Canucks_-_Florida_Panthers_101094.jpg -> Annotation:D:/Python/HockeyPlayerDetection/Tensorflow/workspace/images/unlabeled\\NHL__Jan.11_2022__Vancouver_Canucks_-_Florida_Panthers_101094.xml\n",
      "Image:D:\\Python\\HockeyPlayerDetection\\Tensorflow\\workspace\\images\\unlabeled\\NHL__Oct.21_2021_New_York_Rangers_-_Nashville_Predators_359516.jpg -> Annotation:D:/Python/HockeyPlayerDetection/Tensorflow/workspace/images/unlabeled\\NHL__Oct.21_2021_New_York_Rangers_-_Nashville_Predators_359516.xml\n",
      "Image:D:\\Python\\HockeyPlayerDetection\\Tensorflow\\workspace\\images\\unlabeled\\NHL__Oct.21_2021_New_York_Rangers_-_Nashville_Predators_359516.jpg -> Annotation:D:/Python/HockeyPlayerDetection/Tensorflow/workspace/images/unlabeled\\NHL__Oct.21_2021_New_York_Rangers_-_Nashville_Predators_359516.xml\n",
      "Image:D:\\Python\\HockeyPlayerDetection\\Tensorflow\\workspace\\images\\unlabeled\\NHL__Oct.21_2021_New_York_Rangers_-_Nashville_Predators_359516.jpg -> Annotation:D:/Python/HockeyPlayerDetection/Tensorflow/workspace/images/unlabeled\\NHL__Oct.21_2021_New_York_Rangers_-_Nashville_Predators_359516.xml\n",
      "Image:D:\\Python\\HockeyPlayerDetection\\Tensorflow\\workspace\\images\\unlabeled\\NHL__Oct.21_2021_New_York_Rangers_-_Nashville_Predators_359516.jpg -> Annotation:D:/Python/HockeyPlayerDetection/Tensorflow/workspace/images/unlabeled\\NHL__Oct.21_2021_New_York_Rangers_-_Nashville_Predators_359516.xml\n",
      "Image:D:\\Python\\HockeyPlayerDetection\\Tensorflow\\workspace\\images\\unlabeled\\NHL__Oct.21_2021_New_York_Rangers_-_Nashville_Predators_359516.jpg -> Annotation:D:/Python/HockeyPlayerDetection/Tensorflow/workspace/images/unlabeled\\NHL__Oct.21_2021_New_York_Rangers_-_Nashville_Predators_359516.xml\n",
      "Image:D:\\Python\\HockeyPlayerDetection\\Tensorflow\\workspace\\images\\unlabeled\\NHL_Jan.08_2022_Chicago_Blackhawks_-_Vegas_Golden_Knight_32148.jpg -> Annotation:D:/Python/HockeyPlayerDetection/Tensorflow/workspace/images/unlabeled\\NHL_Jan.08_2022_Chicago_Blackhawks_-_Vegas_Golden_Knight_32148.xml\n",
      "Image:D:\\Python\\HockeyPlayerDetection\\Tensorflow\\workspace\\images\\unlabeled\\NHL_Jan.08_2022_Chicago_Blackhawks_-_Vegas_Golden_Knight_32148.jpg -> Annotation:D:/Python/HockeyPlayerDetection/Tensorflow/workspace/images/unlabeled\\NHL_Jan.08_2022_Chicago_Blackhawks_-_Vegas_Golden_Knight_32148.xml\n",
      "Image:D:\\Python\\HockeyPlayerDetection\\Tensorflow\\workspace\\images\\unlabeled\\NHL_Jan.08_2022_Chicago_Blackhawks_-_Vegas_Golden_Knight_32148.jpg -> Annotation:D:/Python/HockeyPlayerDetection/Tensorflow/workspace/images/unlabeled\\NHL_Jan.08_2022_Chicago_Blackhawks_-_Vegas_Golden_Knight_32148.xml\n",
      "Image:D:\\Python\\HockeyPlayerDetection\\Tensorflow\\workspace\\images\\unlabeled\\NHL_Jan.08_2022_Chicago_Blackhawks_-_Vegas_Golden_Knight_32148.jpg -> Annotation:D:/Python/HockeyPlayerDetection/Tensorflow/workspace/images/unlabeled\\NHL_Jan.08_2022_Chicago_Blackhawks_-_Vegas_Golden_Knight_32148.xml\n",
      "Image:D:\\Python\\HockeyPlayerDetection\\Tensorflow\\workspace\\images\\unlabeled\\NHL_Jan.08_2022_Chicago_Blackhawks_-_Vegas_Golden_Knight_32148.jpg -> Annotation:D:/Python/HockeyPlayerDetection/Tensorflow/workspace/images/unlabeled\\NHL_Jan.08_2022_Chicago_Blackhawks_-_Vegas_Golden_Knight_32148.xml\n",
      "Image:D:\\Python\\HockeyPlayerDetection\\Tensorflow\\workspace\\images\\unlabeled\\NHL__Jan.08_2022___Pittsburgh_Penguins_-_Dallas_Stars_180698.jpg -> Annotation:D:/Python/HockeyPlayerDetection/Tensorflow/workspace/images/unlabeled\\NHL__Jan.08_2022___Pittsburgh_Penguins_-_Dallas_Stars_180698.xml\n",
      "Image:D:\\Python\\HockeyPlayerDetection\\Tensorflow\\workspace\\images\\unlabeled\\NHL__Jan.08_2022___Pittsburgh_Penguins_-_Dallas_Stars_180698.jpg -> Annotation:D:/Python/HockeyPlayerDetection/Tensorflow/workspace/images/unlabeled\\NHL__Jan.08_2022___Pittsburgh_Penguins_-_Dallas_Stars_180698.xml\n",
      "Image:D:\\Python\\HockeyPlayerDetection\\Tensorflow\\workspace\\images\\unlabeled\\NHL__Jan.08_2022___Pittsburgh_Penguins_-_Dallas_Stars_180698.jpg -> Annotation:D:/Python/HockeyPlayerDetection/Tensorflow/workspace/images/unlabeled\\NHL__Jan.08_2022___Pittsburgh_Penguins_-_Dallas_Stars_180698.xml\n",
      "Image:D:\\Python\\HockeyPlayerDetection\\Tensorflow\\workspace\\images\\unlabeled\\NHL__Jan.08_2022___Pittsburgh_Penguins_-_Dallas_Stars_180698.jpg -> Annotation:D:/Python/HockeyPlayerDetection/Tensorflow/workspace/images/unlabeled\\NHL__Jan.08_2022___Pittsburgh_Penguins_-_Dallas_Stars_180698.xml\n",
      "Image:D:\\Python\\HockeyPlayerDetection\\Tensorflow\\workspace\\images\\unlabeled\\NHL__Jan.08_2022___Pittsburgh_Penguins_-_Dallas_Stars_180698.jpg -> Annotation:D:/Python/HockeyPlayerDetection/Tensorflow/workspace/images/unlabeled\\NHL__Jan.08_2022___Pittsburgh_Penguins_-_Dallas_Stars_180698.xml\n",
      "Image:D:\\Python\\HockeyPlayerDetection\\Tensorflow\\workspace\\images\\unlabeled\\NHL__Jan.08_2022___Pittsburgh_Penguins_-_Dallas_Stars_180698.jpg -> Annotation:D:/Python/HockeyPlayerDetection/Tensorflow/workspace/images/unlabeled\\NHL__Jan.08_2022___Pittsburgh_Penguins_-_Dallas_Stars_180698.xml\n",
      "Image:D:\\Python\\HockeyPlayerDetection\\Tensorflow\\workspace\\images\\unlabeled\\NHL__Oct.15_2021__Vancouver_Canucks_-_Philadelphia_Flyers_42416.jpg -> Annotation:D:/Python/HockeyPlayerDetection/Tensorflow/workspace/images/unlabeled\\NHL__Oct.15_2021__Vancouver_Canucks_-_Philadelphia_Flyers_42416.xml\n",
      "Image:D:\\Python\\HockeyPlayerDetection\\Tensorflow\\workspace\\images\\unlabeled\\NHL__Oct.15_2021__Vancouver_Canucks_-_Philadelphia_Flyers_42416.jpg -> Annotation:D:/Python/HockeyPlayerDetection/Tensorflow/workspace/images/unlabeled\\NHL__Oct.15_2021__Vancouver_Canucks_-_Philadelphia_Flyers_42416.xml\n",
      "Image:D:\\Python\\HockeyPlayerDetection\\Tensorflow\\workspace\\images\\unlabeled\\NHL__Oct.15_2021__Vancouver_Canucks_-_Philadelphia_Flyers_42416.jpg -> Annotation:D:/Python/HockeyPlayerDetection/Tensorflow/workspace/images/unlabeled\\NHL__Oct.15_2021__Vancouver_Canucks_-_Philadelphia_Flyers_42416.xml\n",
      "Image:D:\\Python\\HockeyPlayerDetection\\Tensorflow\\workspace\\images\\unlabeled\\NHL__Oct.15_2021__Vancouver_Canucks_-_Philadelphia_Flyers_75449.jpg -> Annotation:D:/Python/HockeyPlayerDetection/Tensorflow/workspace/images/unlabeled\\NHL__Oct.15_2021__Vancouver_Canucks_-_Philadelphia_Flyers_75449.xml\n",
      "Image:D:\\Python\\HockeyPlayerDetection\\Tensorflow\\workspace\\images\\unlabeled\\NHL__Oct.15_2021__Vancouver_Canucks_-_Philadelphia_Flyers_75449.jpg -> Annotation:D:/Python/HockeyPlayerDetection/Tensorflow/workspace/images/unlabeled\\NHL__Oct.15_2021__Vancouver_Canucks_-_Philadelphia_Flyers_75449.xml\n",
      "Image:D:\\Python\\HockeyPlayerDetection\\Tensorflow\\workspace\\images\\unlabeled\\NHL__Oct.15_2021__Vancouver_Canucks_-_Philadelphia_Flyers_75449.jpg -> Annotation:D:/Python/HockeyPlayerDetection/Tensorflow/workspace/images/unlabeled\\NHL__Oct.15_2021__Vancouver_Canucks_-_Philadelphia_Flyers_75449.xml\n",
      "Image:D:\\Python\\HockeyPlayerDetection\\Tensorflow\\workspace\\images\\unlabeled\\NHL__Oct.15_2021__Vancouver_Canucks_-_Philadelphia_Flyers_75449.jpg -> Annotation:D:/Python/HockeyPlayerDetection/Tensorflow/workspace/images/unlabeled\\NHL__Oct.15_2021__Vancouver_Canucks_-_Philadelphia_Flyers_75449.xml\n",
      "Image:D:\\Python\\HockeyPlayerDetection\\Tensorflow\\workspace\\images\\unlabeled\\NHL__Oct.15_2021__Vancouver_Canucks_-_Philadelphia_Flyers_75449.jpg -> Annotation:D:/Python/HockeyPlayerDetection/Tensorflow/workspace/images/unlabeled\\NHL__Oct.15_2021__Vancouver_Canucks_-_Philadelphia_Flyers_75449.xml\n",
      "Image:D:\\Python\\HockeyPlayerDetection\\Tensorflow\\workspace\\images\\unlabeled\\NHL__Oct.16_2021__Arizona_Coyotes_-_Buffalo_Sabres_151769.jpg -> Annotation:D:/Python/HockeyPlayerDetection/Tensorflow/workspace/images/unlabeled\\NHL__Oct.16_2021__Arizona_Coyotes_-_Buffalo_Sabres_151769.xml\n",
      "Image:D:\\Python\\HockeyPlayerDetection\\Tensorflow\\workspace\\images\\unlabeled\\NHL__Oct.16_2021__Arizona_Coyotes_-_Buffalo_Sabres_151769.jpg -> Annotation:D:/Python/HockeyPlayerDetection/Tensorflow/workspace/images/unlabeled\\NHL__Oct.16_2021__Arizona_Coyotes_-_Buffalo_Sabres_151769.xml\n",
      "Image:D:\\Python\\HockeyPlayerDetection\\Tensorflow\\workspace\\images\\unlabeled\\NHL__Oct.16_2021__Arizona_Coyotes_-_Buffalo_Sabres_151769.jpg -> Annotation:D:/Python/HockeyPlayerDetection/Tensorflow/workspace/images/unlabeled\\NHL__Oct.16_2021__Arizona_Coyotes_-_Buffalo_Sabres_151769.xml\n",
      "Image:D:\\Python\\HockeyPlayerDetection\\Tensorflow\\workspace\\images\\unlabeled\\NHL__Oct.16_2021__Arizona_Coyotes_-_Buffalo_Sabres_151769.jpg -> Annotation:D:/Python/HockeyPlayerDetection/Tensorflow/workspace/images/unlabeled\\NHL__Oct.16_2021__Arizona_Coyotes_-_Buffalo_Sabres_151769.xml\n",
      "Image:D:\\Python\\HockeyPlayerDetection\\Tensorflow\\workspace\\images\\unlabeled\\NHL__Oct.16_2021__Arizona_Coyotes_-_Buffalo_Sabres_151769.jpg -> Annotation:D:/Python/HockeyPlayerDetection/Tensorflow/workspace/images/unlabeled\\NHL__Oct.16_2021__Arizona_Coyotes_-_Buffalo_Sabres_151769.xml\n",
      "Image:D:\\Python\\HockeyPlayerDetection\\Tensorflow\\workspace\\images\\unlabeled\\NHL__Oct.16_2021__Arizona_Coyotes_-_Buffalo_Sabres_151769.jpg -> Annotation:D:/Python/HockeyPlayerDetection/Tensorflow/workspace/images/unlabeled\\NHL__Oct.16_2021__Arizona_Coyotes_-_Buffalo_Sabres_151769.xml\n",
      "Image:D:\\Python\\HockeyPlayerDetection\\Tensorflow\\workspace\\images\\unlabeled\\NHL__Oct.16_2021_Tampa_Bay_Lightning_-_Washington_Capitals_182550.jpg -> Annotation:D:/Python/HockeyPlayerDetection/Tensorflow/workspace/images/unlabeled\\NHL__Oct.16_2021_Tampa_Bay_Lightning_-_Washington_Capitals_182550.xml\n",
      "Image:D:\\Python\\HockeyPlayerDetection\\Tensorflow\\workspace\\images\\unlabeled\\NHL__Oct.16_2021_Tampa_Bay_Lightning_-_Washington_Capitals_182550.jpg -> Annotation:D:/Python/HockeyPlayerDetection/Tensorflow/workspace/images/unlabeled\\NHL__Oct.16_2021_Tampa_Bay_Lightning_-_Washington_Capitals_182550.xml\n",
      "Image:D:\\Python\\HockeyPlayerDetection\\Tensorflow\\workspace\\images\\unlabeled\\NHL__Oct.16_2021_Tampa_Bay_Lightning_-_Washington_Capitals_182550.jpg -> Annotation:D:/Python/HockeyPlayerDetection/Tensorflow/workspace/images/unlabeled\\NHL__Oct.16_2021_Tampa_Bay_Lightning_-_Washington_Capitals_182550.xml\n",
      "Image:D:\\Python\\HockeyPlayerDetection\\Tensorflow\\workspace\\images\\unlabeled\\NHL__Oct.16_2021_Tampa_Bay_Lightning_-_Washington_Capitals_182550.jpg -> Annotation:D:/Python/HockeyPlayerDetection/Tensorflow/workspace/images/unlabeled\\NHL__Oct.16_2021_Tampa_Bay_Lightning_-_Washington_Capitals_182550.xml\n",
      "Image:D:\\Python\\HockeyPlayerDetection\\Tensorflow\\workspace\\images\\unlabeled\\NHL__Oct.19_2021__Los_Angeles_Kings_-_Nashville_Predators_34822.jpg -> Annotation:D:/Python/HockeyPlayerDetection/Tensorflow/workspace/images/unlabeled\\NHL__Oct.19_2021__Los_Angeles_Kings_-_Nashville_Predators_34822.xml\n",
      "Image:D:\\Python\\HockeyPlayerDetection\\Tensorflow\\workspace\\images\\unlabeled\\NHL__Oct.19_2021__Los_Angeles_Kings_-_Nashville_Predators_34822.jpg -> Annotation:D:/Python/HockeyPlayerDetection/Tensorflow/workspace/images/unlabeled\\NHL__Oct.19_2021__Los_Angeles_Kings_-_Nashville_Predators_34822.xml\n",
      "Image:D:\\Python\\HockeyPlayerDetection\\Tensorflow\\workspace\\images\\unlabeled\\NHL__Oct.19_2021__Los_Angeles_Kings_-_Nashville_Predators_34822.jpg -> Annotation:D:/Python/HockeyPlayerDetection/Tensorflow/workspace/images/unlabeled\\NHL__Oct.19_2021__Los_Angeles_Kings_-_Nashville_Predators_34822.xml\n",
      "Image:D:\\Python\\HockeyPlayerDetection\\Tensorflow\\workspace\\images\\unlabeled\\NHL__Oct.19_2021__Los_Angeles_Kings_-_Nashville_Predators_34822.jpg -> Annotation:D:/Python/HockeyPlayerDetection/Tensorflow/workspace/images/unlabeled\\NHL__Oct.19_2021__Los_Angeles_Kings_-_Nashville_Predators_34822.xml\n",
      "Image:D:\\Python\\HockeyPlayerDetection\\Tensorflow\\workspace\\images\\unlabeled\\NHL__Oct.19_2021__Los_Angeles_Kings_-_Nashville_Predators_34822.jpg -> Annotation:D:/Python/HockeyPlayerDetection/Tensorflow/workspace/images/unlabeled\\NHL__Oct.19_2021__Los_Angeles_Kings_-_Nashville_Predators_34822.xml\n",
      "Image:D:\\Python\\HockeyPlayerDetection\\Tensorflow\\workspace\\images\\unlabeled\\NHL__Oct.19_2021__Los_Angeles_Kings_-_Nashville_Predators_34822.jpg -> Annotation:D:/Python/HockeyPlayerDetection/Tensorflow/workspace/images/unlabeled\\NHL__Oct.19_2021__Los_Angeles_Kings_-_Nashville_Predators_34822.xml\n",
      "Image:D:\\Python\\HockeyPlayerDetection\\Tensorflow\\workspace\\images\\unlabeled\\NHL__Oct.19_2021__Los_Angeles_Kings_-_Nashville_Predators_34822.jpg -> Annotation:D:/Python/HockeyPlayerDetection/Tensorflow/workspace/images/unlabeled\\NHL__Oct.19_2021__Los_Angeles_Kings_-_Nashville_Predators_34822.xml\n"
     ]
    }
   ],
   "source": [
    "# Open LabelImg\n",
    "!cd {LABELIMG_PATH} && python labelImg.py\n",
    "\n",
    "# Save labeled images to Tensorflow\\workspace\\images"
   ]
  },
  {
   "cell_type": "markdown",
   "metadata": {},
   "source": [
    "### Copy labeled images to train and test folders"
   ]
  },
  {
   "cell_type": "code",
   "execution_count": 5,
   "metadata": {},
   "outputs": [
    {
     "name": "stdout",
     "output_type": "stream",
     "text": [
      "194\n",
      "142\n",
      "67.0 images for training\n",
      "4.0 images for testing\n"
     ]
    }
   ],
   "source": [
    "import shutil\n",
    "\n",
    "test_image_amount = 4\n",
    "\n",
    "all_files = os.listdir(paths['UNLABELED_IMAGE_PATH'])\n",
    "\n",
    "print(len(all_files))\n",
    "\n",
    "unlabeled_imgs = []\n",
    "for filename in all_files:\n",
    "    # Check if image has been labeled (an xml for the same)\n",
    "    if filename.endswith('.jpg') and filename.replace('.jpg', '.xml') not in all_files:\n",
    "        unlabeled_imgs.append(filename)\n",
    "\n",
    "for filename in unlabeled_imgs:\n",
    "    if filename in all_files:\n",
    "        all_files.remove(filename)\n",
    "\n",
    "print(len(all_files))\n",
    "\n",
    "test_image_amount *= 2\n",
    "# Use first images for evaluating\n",
    "test_filenames = all_files[0:test_image_amount]\n",
    "# Use rest for training\n",
    "train_filenames = all_files[test_image_amount:len(all_files)]\n",
    "\n",
    "# Delete old labeled images\n",
    "for filename in os.listdir(TEST_PATH):\n",
    "    os.remove(os.path.join(TEST_PATH, filename))\n",
    "for filename in os.listdir(TRAIN_PATH):\n",
    "    os.remove(os.path.join(TRAIN_PATH, filename))\n",
    "\n",
    "def copylabeledimages(filenames, output_path):\n",
    "    for filename in filenames:\n",
    "        shutil.copy(os.path.join(paths['UNLABELED_IMAGE_PATH'], filename), os.path.join(output_path, filename))\n",
    "\n",
    "# Copy labeled images to their respective directories\n",
    "copylabeledimages(train_filenames, TRAIN_PATH)\n",
    "copylabeledimages(test_filenames, TEST_PATH)\n",
    "\n",
    "print(str((len(all_files) - test_image_amount) / 2) + \" images for training\")\n",
    "print(str(test_image_amount / 2) + \" images for testing\")"
   ]
  },
  {
   "cell_type": "markdown",
   "metadata": {},
   "source": [
    "# Create Label Map"
   ]
  },
  {
   "cell_type": "code",
   "execution_count": 6,
   "metadata": {},
   "outputs": [],
   "source": [
    "labels = [{'name':'hockeyplayer', 'id':1}, {'name':'goalie', 'id':2}, {'name':'referee', 'id':3}]\n",
    "\n",
    "with open(files['LABELMAP'], 'w') as f:\n",
    "    for label in labels:\n",
    "        f.write('item { \\n')\n",
    "        f.write('\\tname:\\'{}\\'\\n'.format(label['name']))\n",
    "        f.write('\\tid:{}\\n'.format(label['id']))\n",
    "        f.write('}\\n')"
   ]
  },
  {
   "cell_type": "markdown",
   "metadata": {},
   "source": [
    "### Verify object detection install"
   ]
  },
  {
   "cell_type": "code",
   "execution_count": 3,
   "metadata": {},
   "outputs": [
    {
     "name": "stdout",
     "output_type": "stream",
     "text": [
      "^C\n"
     ]
    }
   ],
   "source": [
    "VERIFICATION_SCRIPT = os.path.join(paths['APIMODEL_PATH'], 'research', 'object_detection', 'builders', 'model_builder_tf2_test.py')\n",
    "# Verify Installation\n",
    "!python {VERIFICATION_SCRIPT}"
   ]
  },
  {
   "cell_type": "markdown",
   "metadata": {},
   "source": [
    "# Generate TF Records"
   ]
  },
  {
   "cell_type": "code",
   "execution_count": null,
   "metadata": {
    "colab": {
     "base_uri": "https://localhost:8080/"
    },
    "id": "KWpb_BVUpfDD",
    "outputId": "56ce2a3f-3933-4ee6-8a9d-d5ec65f7d73c"
   },
   "outputs": [],
   "source": [
    "# Get generation script\n",
    "if not os.path.exists(files['TF_RECORD_SCRIPT']):\n",
    "    !git clone https://github.com/nicknochnack/GenerateTFRecord {paths['SCRIPTS_PATH']}"
   ]
  },
  {
   "cell_type": "code",
   "execution_count": 7,
   "metadata": {
    "colab": {
     "base_uri": "https://localhost:8080/"
    },
    "id": "UPFToGZqpfDD",
    "outputId": "0ebb456f-aadc-4a1f-96e6-fbfec1923e1c"
   },
   "outputs": [
    {
     "name": "stdout",
     "output_type": "stream",
     "text": [
      "Successfully created the TFRecord file: Tensorflow\\workspace\\annotations\\train.record\n",
      "Successfully created the TFRecord file: Tensorflow\\workspace\\annotations\\test.record\n"
     ]
    }
   ],
   "source": [
    "!python {files['TF_RECORD_SCRIPT']} -x {os.path.join(paths['IMAGE_PATH'], 'train')} -l {files['LABELMAP']} -o {os.path.join(paths['ANNOTATION_PATH'], 'train.record')} \n",
    "!python {files['TF_RECORD_SCRIPT']} -x {os.path.join(paths['IMAGE_PATH'], 'test')} -l {files['LABELMAP']} -o {os.path.join(paths['ANNOTATION_PATH'], 'test.record')} "
   ]
  },
  {
   "cell_type": "markdown",
   "metadata": {},
   "source": [
    "# Copy model configuration file"
   ]
  },
  {
   "cell_type": "code",
   "execution_count": 15,
   "metadata": {},
   "outputs": [
    {
     "name": "stdout",
     "output_type": "stream",
     "text": [
      "        1 file(s) copied.\n"
     ]
    }
   ],
   "source": [
    "!copy {os.path.join(paths['PRETRAINED_MODEL_PATH'], PRETRAINED_MODEL_NAME, 'pipeline.config')} {paths['CHECKPOINT_PATH']}"
   ]
  },
  {
   "cell_type": "markdown",
   "metadata": {},
   "source": [
    "# Update model config file for transfer learning"
   ]
  },
  {
   "cell_type": "code",
   "execution_count": 8,
   "metadata": {
    "id": "Z9hRrO_ppfDF"
   },
   "outputs": [],
   "source": [
    "import tensorflow as tf\n",
    "from object_detection.utils import config_util\n",
    "from object_detection.protos import pipeline_pb2\n",
    "from google.protobuf import text_format"
   ]
  },
  {
   "cell_type": "code",
   "execution_count": 9,
   "metadata": {
    "id": "c2A0mn4ipfDF"
   },
   "outputs": [],
   "source": [
    "config = config_util.get_configs_from_pipeline_file(files['PIPELINE_CONFIG'])"
   ]
  },
  {
   "cell_type": "code",
   "execution_count": 10,
   "metadata": {
    "id": "9vK5lotDpfDF"
   },
   "outputs": [],
   "source": [
    "pipeline_config = pipeline_pb2.TrainEvalPipelineConfig()\n",
    "with tf.io.gfile.GFile(makeabsolute(files['PIPELINE_CONFIG']), \"r\") as f:                                                                                                                                                                                                                     \n",
    "    proto_str = f.read()                                                                                                                                                                                                                                          \n",
    "    text_format.Merge(proto_str, pipeline_config)  "
   ]
  },
  {
   "cell_type": "code",
   "execution_count": 11,
   "metadata": {
    "id": "rP43Ph0JpfDG"
   },
   "outputs": [],
   "source": [
    "pipeline_config.model.ssd.num_classes = len(labels)\n",
    "pipeline_config.train_config.batch_size = 6\n",
    "pipeline_config.train_config.fine_tune_checkpoint = makeabsolute(os.path.join(paths['PRETRAINED_MODEL_PATH'], PRETRAINED_MODEL_NAME, 'checkpoint', 'ckpt-0'))\n",
    "pipeline_config.train_config.fine_tune_checkpoint_type = \"detection\"\n",
    "pipeline_config.train_input_reader.label_map_path= makeabsolute(files['LABELMAP'])\n",
    "pipeline_config.train_input_reader.tf_record_input_reader.input_path[:] = [makeabsolute(os.path.join(paths['ANNOTATION_PATH'], 'train.record'))]\n",
    "pipeline_config.eval_input_reader[0].label_map_path = makeabsolute(files['LABELMAP'])\n",
    "pipeline_config.eval_input_reader[0].tf_record_input_reader.input_path[:] = [makeabsolute(os.path.join(paths['ANNOTATION_PATH'], 'test.record'))]"
   ]
  },
  {
   "cell_type": "code",
   "execution_count": 12,
   "metadata": {
    "id": "oJvfgwWqpfDG"
   },
   "outputs": [],
   "source": [
    "config_text = text_format.MessageToString(pipeline_config)                                                                                                                                                                                                        \n",
    "with tf.io.gfile.GFile(makeabsolute(files['PIPELINE_CONFIG']), \"wb\") as f:                                                                                                                                                                                                                     \n",
    "    f.write(config_text)   "
   ]
  },
  {
   "cell_type": "markdown",
   "metadata": {},
   "source": [
    "# Training"
   ]
  },
  {
   "cell_type": "code",
   "execution_count": 3,
   "metadata": {},
   "outputs": [],
   "source": [
    "# Allow dynamic memory allocation\n",
    "import tensorflow as tf\n",
    "physical_devices = tf.config.list_physical_devices('GPU') \n",
    "tf.config.experimental.set_memory_growth(physical_devices[0], True)"
   ]
  },
  {
   "cell_type": "code",
   "execution_count": 3,
   "metadata": {
    "id": "B-Y2UQmQpfDG"
   },
   "outputs": [],
   "source": [
    "TRAINING_SCRIPT = os.path.join(paths['APIMODEL_PATH'], 'research', 'object_detection', 'model_main_tf2.py')"
   ]
  },
  {
   "cell_type": "code",
   "execution_count": 4,
   "metadata": {
    "id": "jMP2XDfQpfDH"
   },
   "outputs": [
    {
     "name": "stdout",
     "output_type": "stream",
     "text": [
      "python D:\\Python\\HockeyPlayerDetection\\Tensorflow\\models\\research\\object_detection\\model_main_tf2.py --model_dir=D:\\Python\\HockeyPlayerDetection\\Tensorflow\\workspace\\models\\HockeyPlayerDetectionModel --pipeline_config_path=D:\\Python\\HockeyPlayerDetection\\Tensorflow\\workspace\\models\\HockeyPlayerDetectionModel\\pipeline.config --num_train_steps=2000\n"
     ]
    }
   ],
   "source": [
    "command = \"python {} --model_dir={} --pipeline_config_path={} --num_train_steps={}\".format(makeabsolute(TRAINING_SCRIPT), makeabsolute(paths['CHECKPOINT_PATH']), makeabsolute(files['PIPELINE_CONFIG']), str(2000))\n",
    "\n",
    "print(command)\n"
   ]
  },
  {
   "cell_type": "markdown",
   "metadata": {},
   "source": [
    "# Evaluating"
   ]
  },
  {
   "cell_type": "code",
   "execution_count": 7,
   "metadata": {
    "id": "80L7-fdPpfDH"
   },
   "outputs": [
    {
     "name": "stdout",
     "output_type": "stream",
     "text": [
      "python D:\\Python\\HockeyPlayerDetection\\Tensorflow\\models\\research\\object_detection\\model_main_tf2.py --model_dir=D:\\Python\\HockeyPlayerDetection\\Tensorflow\\workspace\\models\\HockeyPlayerDetectionModel --pipeline_config_path=D:\\Python\\HockeyPlayerDetection\\Tensorflow\\workspace\\models\\HockeyPlayerDetectionModel\\pipeline.config --checkpoint_dir=D:\\Python\\HockeyPlayerDetection\\Tensorflow\\workspace\\models\\HockeyPlayerDetectionModel\n"
     ]
    }
   ],
   "source": [
    "command = \"python {} --model_dir={} --pipeline_config_path={} --checkpoint_dir={}\".format(makeabsolute(TRAINING_SCRIPT), makeabsolute(paths['CHECKPOINT_PATH']), makeabsolute(files['PIPELINE_CONFIG']), makeabsolute(paths['CHECKPOINT_PATH']))\n",
    "print(command)"
   ]
  },
  {
   "cell_type": "code",
   "execution_count": 18,
   "metadata": {},
   "outputs": [
    {
     "name": "stdout",
     "output_type": "stream",
     "text": [
      "^C\n"
     ]
    }
   ],
   "source": [
    "!tensorboard --logdir={os.path.join(paths['CHECKPOINT_PATH'], 'eval')}"
   ]
  },
  {
   "cell_type": "markdown",
   "metadata": {},
   "source": [
    "# Export/Freeze model"
   ]
  },
  {
   "cell_type": "code",
   "execution_count": 3,
   "metadata": {
    "id": "0AjO93QDpfDJ"
   },
   "outputs": [
    {
     "name": "stdout",
     "output_type": "stream",
     "text": [
      "python Tensorflow\\models\\research\\object_detection\\exporter_main_v2.py  --input_type=image_tensor --pipeline_config_path=Tensorflow\\workspace\\models\\HockeyPlayerDetectionModel\\pipeline.config --trained_checkpoint_dir=Tensorflow\\workspace\\models\\HockeyPlayerDetectionModel --output_directory=Tensorflow\\workspace\\models\\HockeyPlayerDetectionModel\\export\n"
     ]
    }
   ],
   "source": [
    "FREEZE_SCRIPT = os.path.join(paths['APIMODEL_PATH'], 'research', 'object_detection', 'exporter_main_v2.py ')\n",
    "\n",
    "command = \"python {} --input_type=image_tensor --pipeline_config_path={} --trained_checkpoint_dir={} --output_directory={}\".format(FREEZE_SCRIPT ,files['PIPELINE_CONFIG'], paths['CHECKPOINT_PATH'], paths['OUTPUT_PATH'])\n",
    "\n",
    "print(command)"
   ]
  },
  {
   "cell_type": "markdown",
   "metadata": {},
   "source": [
    "# Testing exported model"
   ]
  },
  {
   "cell_type": "code",
   "execution_count": 3,
   "metadata": {},
   "outputs": [
    {
     "name": "stdout",
     "output_type": "stream",
     "text": [
      "Loading model...Done! Took 7.103670120239258 seconds\n"
     ]
    }
   ],
   "source": [
    "import tensorflow as tf\n",
    "import cv2\n",
    "import time\n",
    "from object_detection.utils import label_map_util\n",
    "from object_detection.utils import visualization_utils as viz_utils\n",
    "import numpy as np\n",
    "\n",
    "print('Loading model...', end='')\n",
    "start_time = time.time()\n",
    "\n",
    "# Load saved model and build the detection function\n",
    "detect_fn = tf.saved_model.load(os.path.join(paths['OUTPUT_PATH'], 'saved_model'))\n",
    "\n",
    "end_time = time.time()\n",
    "elapsed_time = end_time - start_time\n",
    "print('Done! Took {} seconds'.format(elapsed_time))\n",
    "\n",
    "# Labels load\n",
    "PATH_TO_LABELS = files['LABELMAP']\n",
    "\n",
    "category_index = label_map_util.create_category_index_from_labelmap(PATH_TO_LABELS, use_display_name=True)\n",
    "\n",
    "cap = cv2.VideoCapture(R'D:\\Python\\HockeyPlayerDetection\\Footage\\Eval\\NHL   Oct.13_2022    New York Rangers - Minnesota Wild.mp4')\n",
    "\n",
    "cap.set(cv2.CAP_PROP_POS_FRAMES, int(cap.get(cv2.CAP_PROP_FRAME_COUNT) / 2))\n",
    "\n",
    "while cap.isOpened():\n",
    "    ret, frame = cap.read()\n",
    "\n",
    "    frame = cv2.cvtColor(frame, cv2.COLOR_RGB2BGR)\n",
    "\n",
    "    image_np = np.array(frame)\n",
    "\n",
    "    # Things to try:\n",
    "    # Flip horizontally\n",
    "    # image_np = np.fliplr(image_np).copy()\n",
    "\n",
    "    # Convert image to grayscale\n",
    "    # image_np = np.tile(\n",
    "    #     np.mean(image_np, 2, keepdims=True), (1, 1, 3)).astype(np.uint8)\n",
    "\n",
    "    # The input needs to be a tensor, convert it using `tf.convert_to_tensor`.\n",
    "    input_tensor = tf.convert_to_tensor(image_np)\n",
    "    # The model expects a batch of images, so add an axis with `tf.newaxis`.\n",
    "    input_tensor = input_tensor[tf.newaxis, ...]\n",
    "\n",
    "    # input_tensor = np.expand_dims(image_np, 0)\n",
    "    detections = detect_fn(input_tensor)\n",
    "\n",
    "    # All outputs are batches tensors.\n",
    "    # Convert to numpy arrays, and take index [0] to remove the batch dimension.\n",
    "    # We're only interested in the first num_detections.\n",
    "    num_detections = int(detections.pop('num_detections'))\n",
    "    detections = {key: value[0, :num_detections].numpy()\n",
    "                   for key, value in detections.items()}\n",
    "    detections['num_detections'] = num_detections\n",
    "\n",
    "    # detection_classes should be ints.\n",
    "    detections['detection_classes'] = detections['detection_classes'].astype(np.int64)\n",
    "\n",
    "    image_np_with_detections = image_np.copy()\n",
    "\n",
    "    viz_utils.visualize_boxes_and_labels_on_image_array(\n",
    "          image_np_with_detections,\n",
    "          detections['detection_boxes'],\n",
    "          detections['detection_classes'],\n",
    "          detections['detection_scores'],\n",
    "          category_index,\n",
    "          use_normalized_coordinates=True,\n",
    "          max_boxes_to_draw=200,\n",
    "          min_score_thresh=.30,\n",
    "          agnostic_mode=False)\n",
    "\n",
    "    cv2.imshow(\"Exported model test\", cv2.cvtColor(image_np_with_detections, cv2.COLOR_BGR2RGB))\n",
    "\n",
    "    if cv2.waitKey(10) & 0xFF == ord('q'):\n",
    "        cap.release()\n",
    "        cv2.destroyAllWindows()\n",
    "        break"
   ]
  }
 ],
 "metadata": {
  "kernelspec": {
   "display_name": "Python 3.10.7 ('.venv': venv)",
   "language": "python",
   "name": "python3"
  },
  "language_info": {
   "codemirror_mode": {
    "name": "ipython",
    "version": 3
   },
   "file_extension": ".py",
   "mimetype": "text/x-python",
   "name": "python",
   "nbconvert_exporter": "python",
   "pygments_lexer": "ipython3",
   "version": "3.10.7"
  },
  "orig_nbformat": 4,
  "vscode": {
   "interpreter": {
    "hash": "3366197af0095be8cc0c97b80606ce05e841db5d77e98e66bb6a53fb29fa3c21"
   }
  }
 },
 "nbformat": 4,
 "nbformat_minor": 2
}
